{
 "cells": [
  {
   "cell_type": "code",
   "execution_count": 9,
   "id": "d84673aa",
   "metadata": {},
   "outputs": [],
   "source": [
    "import os\n",
    "import pandas as pd\n",
    "from ragas.metrics import answer_relevancy, answer_correctness\n",
    "from ragas import evaluate\n",
    "from ragas.llms import LangchainLLMWrapper\n",
    "from ragas.embeddings import LangchainEmbeddingsWrapper\n",
    "from langchain.chat_models import ChatOpenAI\n",
    "from langchain_localai import LocalAIEmbeddings\n",
    "from datasets import Dataset\n",
    "from dotenv import load_dotenv\n",
    "import json"
   ]
  },
  {
   "cell_type": "code",
   "execution_count": 10,
   "id": "7b837a72",
   "metadata": {},
   "outputs": [],
   "source": [
    "load_dotenv()\n",
    "\n",
    "INPUT_FILE = os.getenv(\"INPUT_FILE\")\n",
    "OUTPUT_FILE = os.getenv(\"OUTPUT_FILE\")"
   ]
  },
  {
   "cell_type": "code",
   "execution_count": 11,
   "id": "2b2645af",
   "metadata": {},
   "outputs": [
    {
     "name": "stdout",
     "output_type": "stream",
     "text": [
      "\n",
      "\n",
      " ################ RAG METRIC EVALUATION ###################\n",
      "Input file: ./test_data/study_rules/test_set_method1_lightrag.json\n",
      "Output file: ./results/study_rules/method1_lighrag/score.csv\n",
      "###########################################################\n",
      "\n",
      "\n"
     ]
    }
   ],
   "source": [
    "print(\"\\n\\n ################ RAG METRIC EVALUATION ###################\")\n",
    "print(f\"Input file: {INPUT_FILE}\")\n",
    "print(f\"Output file: {OUTPUT_FILE}\")\n",
    "print(\"###########################################################\\n\\n\")"
   ]
  },
  {
   "cell_type": "code",
   "execution_count": 12,
   "id": "2719e1a7",
   "metadata": {},
   "outputs": [],
   "source": [
    "with open(INPUT_FILE, 'r', encoding='utf-8') as file:\n",
    "    data = json.load(file)\n",
    "dataset = Dataset.from_dict(data)"
   ]
  },
  {
   "cell_type": "code",
   "execution_count": 13,
   "id": "8ea8cdd9",
   "metadata": {},
   "outputs": [
    {
     "name": "stderr",
     "output_type": "stream",
     "text": [
      "/tmp/ipykernel_8094/1435345648.py:1: LangChainDeprecationWarning: The class `ChatOpenAI` was deprecated in LangChain 0.0.10 and will be removed in 1.0. An updated version of the class exists in the :class:`~langchain-openai package and should be used instead. To use it run `pip install -U :class:`~langchain-openai` and import as `from :class:`~langchain_openai import ChatOpenAI``.\n",
      "  llm = ChatOpenAI(\n",
      "Evaluating: 100%|██████████| 18/18 [00:56<00:00,  3.15s/it]\n"
     ]
    },
    {
     "name": "stdout",
     "output_type": "stream",
     "text": [
      "Done - saved in: ./results/study_rules/method1_lighrag/score.csv\n"
     ]
    }
   ],
   "source": [
    "llm = ChatOpenAI(\n",
    "    openai_api_base=os.getenv(\"OPENAI_API_BASE\"), \n",
    "    openai_api_key=os.getenv(\"OPENAI_API_KEY\"),              \n",
    "    model_name=os.getenv(\"LLM_MODEL_NAME\")          \n",
    ")\n",
    "llm = LangchainLLMWrapper(llm)\n",
    "\n",
    "embedding = LocalAIEmbeddings(\n",
    "    openai_api_base=os.getenv(\"EMBED_URL\"), \n",
    "    openai_api_key=os.getenv(\"EMBED_TOKEN\"), \n",
    "    model=os.getenv(\"EMBED_MODEL\")\n",
    ")\n",
    "embedding = LangchainEmbeddingsWrapper(embedding)\n",
    "\n",
    "results = evaluate(\n",
    "    dataset=dataset,\n",
    "    metrics=[answer_correctness, answer_relevancy],\n",
    "    llm=llm,\n",
    "    embeddings=embedding\n",
    ")\n",
    "\n",
    "df = results.to_pandas()\n",
    "df.to_csv(OUTPUT_FILE,index=False)\n",
    "print(f\"Done - saved in: {OUTPUT_FILE}\")"
   ]
  },
  {
   "cell_type": "code",
   "execution_count": 14,
   "id": "8d991fdf",
   "metadata": {},
   "outputs": [
    {
     "data": {
      "text/html": [
       "<div>\n",
       "<style scoped>\n",
       "    .dataframe tbody tr th:only-of-type {\n",
       "        vertical-align: middle;\n",
       "    }\n",
       "\n",
       "    .dataframe tbody tr th {\n",
       "        vertical-align: top;\n",
       "    }\n",
       "\n",
       "    .dataframe thead th {\n",
       "        text-align: right;\n",
       "    }\n",
       "</style>\n",
       "<table border=\"1\" class=\"dataframe\">\n",
       "  <thead>\n",
       "    <tr style=\"text-align: right;\">\n",
       "      <th></th>\n",
       "      <th>user_input</th>\n",
       "      <th>response</th>\n",
       "      <th>reference</th>\n",
       "      <th>answer_correctness</th>\n",
       "      <th>answer_relevancy</th>\n",
       "    </tr>\n",
       "  </thead>\n",
       "  <tbody>\n",
       "    <tr>\n",
       "      <th>0</th>\n",
       "      <td>What is the procedure and timeline for a stude...</td>\n",
       "      <td>**Procedure for Transfer from Another Universi...</td>\n",
       "      <td>A student may transfer from another university...</td>\n",
       "      <td>0.766353</td>\n",
       "      <td>0.928777</td>\n",
       "    </tr>\n",
       "    <tr>\n",
       "      <th>1</th>\n",
       "      <td>What types of training are students required t...</td>\n",
       "      <td>**Training Requirements for First Semester Stu...</td>\n",
       "      <td>Students are required to complete training in ...</td>\n",
       "      <td>0.739027</td>\n",
       "      <td>0.931348</td>\n",
       "    </tr>\n",
       "    <tr>\n",
       "      <th>2</th>\n",
       "      <td>How does Gdańsk University of Technology defin...</td>\n",
       "      <td>Confirming learning outcomes for admission at ...</td>\n",
       "      <td>Confirmation of learning outcomes is conducted...</td>\n",
       "      <td>0.721505</td>\n",
       "      <td>0.923147</td>\n",
       "    </tr>\n",
       "    <tr>\n",
       "      <th>3</th>\n",
       "      <td>What are the responsibilities of the Faculty S...</td>\n",
       "      <td>The Faculty Student Council is a representativ...</td>\n",
       "      <td>The Faculty Student Council is responsible for...</td>\n",
       "      <td>0.552259</td>\n",
       "      <td>0.772437</td>\n",
       "    </tr>\n",
       "    <tr>\n",
       "      <th>4</th>\n",
       "      <td>Under what circumstances can classes from the ...</td>\n",
       "      <td>Based on the provided Knowledge Base, I was un...</td>\n",
       "      <td>Such classes may be conducted in a foreign lan...</td>\n",
       "      <td>0.141376</td>\n",
       "      <td>0.000000</td>\n",
       "    </tr>\n",
       "    <tr>\n",
       "      <th>5</th>\n",
       "      <td>What procedures must academic teachers follow ...</td>\n",
       "      <td>According to the Knowledge Base, academic teac...</td>\n",
       "      <td>Academic teachers complete subject cards in th...</td>\n",
       "      <td>0.423226</td>\n",
       "      <td>0.796308</td>\n",
       "    </tr>\n",
       "    <tr>\n",
       "      <th>6</th>\n",
       "      <td>What are the responsibilities of academic teac...</td>\n",
       "      <td>According to the Knowledge Base, academic teac...</td>\n",
       "      <td>Academic teachers must register student attend...</td>\n",
       "      <td>0.236015</td>\n",
       "      <td>0.531554</td>\n",
       "    </tr>\n",
       "    <tr>\n",
       "      <th>7</th>\n",
       "      <td>Under what circumstances can a student be remo...</td>\n",
       "      <td>**Removal from Classes**\\n\\nAccording to the p...</td>\n",
       "      <td>A student can be removed from classes if their...</td>\n",
       "      <td>0.268342</td>\n",
       "      <td>0.935541</td>\n",
       "    </tr>\n",
       "    <tr>\n",
       "      <th>8</th>\n",
       "      <td>How is the weighted average grade calculated, ...</td>\n",
       "      <td>**Calculation of Weighted Average Grade**\\n\\nA...</td>\n",
       "      <td>The weighted average grade is calculated by di...</td>\n",
       "      <td>0.181425</td>\n",
       "      <td>0.995617</td>\n",
       "    </tr>\n",
       "  </tbody>\n",
       "</table>\n",
       "</div>"
      ],
      "text/plain": [
       "                                          user_input  \\\n",
       "0  What is the procedure and timeline for a stude...   \n",
       "1  What types of training are students required t...   \n",
       "2  How does Gdańsk University of Technology defin...   \n",
       "3  What are the responsibilities of the Faculty S...   \n",
       "4  Under what circumstances can classes from the ...   \n",
       "5  What procedures must academic teachers follow ...   \n",
       "6  What are the responsibilities of academic teac...   \n",
       "7  Under what circumstances can a student be remo...   \n",
       "8  How is the weighted average grade calculated, ...   \n",
       "\n",
       "                                            response  \\\n",
       "0  **Procedure for Transfer from Another Universi...   \n",
       "1  **Training Requirements for First Semester Stu...   \n",
       "2  Confirming learning outcomes for admission at ...   \n",
       "3  The Faculty Student Council is a representativ...   \n",
       "4  Based on the provided Knowledge Base, I was un...   \n",
       "5  According to the Knowledge Base, academic teac...   \n",
       "6  According to the Knowledge Base, academic teac...   \n",
       "7  **Removal from Classes**\\n\\nAccording to the p...   \n",
       "8  **Calculation of Weighted Average Grade**\\n\\nA...   \n",
       "\n",
       "                                           reference  answer_correctness  \\\n",
       "0  A student may transfer from another university...            0.766353   \n",
       "1  Students are required to complete training in ...            0.739027   \n",
       "2  Confirmation of learning outcomes is conducted...            0.721505   \n",
       "3  The Faculty Student Council is responsible for...            0.552259   \n",
       "4  Such classes may be conducted in a foreign lan...            0.141376   \n",
       "5  Academic teachers complete subject cards in th...            0.423226   \n",
       "6  Academic teachers must register student attend...            0.236015   \n",
       "7  A student can be removed from classes if their...            0.268342   \n",
       "8  The weighted average grade is calculated by di...            0.181425   \n",
       "\n",
       "   answer_relevancy  \n",
       "0          0.928777  \n",
       "1          0.931348  \n",
       "2          0.923147  \n",
       "3          0.772437  \n",
       "4          0.000000  \n",
       "5          0.796308  \n",
       "6          0.531554  \n",
       "7          0.935541  \n",
       "8          0.995617  "
      ]
     },
     "execution_count": 14,
     "metadata": {},
     "output_type": "execute_result"
    }
   ],
   "source": [
    "df = pd.read_csv(OUTPUT_FILE)\n",
    "df"
   ]
  }
 ],
 "metadata": {
  "kernelspec": {
   "display_name": ".venv",
   "language": "python",
   "name": "python3"
  },
  "language_info": {
   "codemirror_mode": {
    "name": "ipython",
    "version": 3
   },
   "file_extension": ".py",
   "mimetype": "text/x-python",
   "name": "python",
   "nbconvert_exporter": "python",
   "pygments_lexer": "ipython3",
   "version": "3.10.12"
  }
 },
 "nbformat": 4,
 "nbformat_minor": 5
}
