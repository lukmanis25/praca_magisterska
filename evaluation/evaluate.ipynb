{
 "cells": [
  {
   "cell_type": "code",
   "execution_count": 3,
   "id": "d84673aa",
   "metadata": {},
   "outputs": [
    {
     "name": "stderr",
     "output_type": "stream",
     "text": [
      "c:\\Projekty_magister_sem3\\magisterka\\praca_magisterska\\.venv\\Lib\\site-packages\\tqdm\\auto.py:21: TqdmWarning: IProgress not found. Please update jupyter and ipywidgets. See https://ipywidgets.readthedocs.io/en/stable/user_install.html\n",
      "  from .autonotebook import tqdm as notebook_tqdm\n"
     ]
    }
   ],
   "source": [
    "import os\n",
    "import pandas as pd\n",
    "from ragas.metrics import answer_relevancy, answer_correctness, FactualCorrectness, SemanticSimilarity\n",
    "from ragas import evaluate\n",
    "from ragas.llms import LangchainLLMWrapper\n",
    "from ragas.embeddings import LangchainEmbeddingsWrapper\n",
    "from langchain.chat_models import ChatOpenAI\n",
    "from langchain_localai import LocalAIEmbeddings\n",
    "from datasets import Dataset\n",
    "from dotenv import load_dotenv\n",
    "import json\n",
    "\n",
    "import json\n",
    "import pandas as pd\n",
    "import os\n",
    "from datasets import Dataset\n",
    "from tqdm import tqdm\n",
    "import numpy as np"
   ]
  },
  {
   "cell_type": "code",
   "execution_count": 3,
   "id": "fa962040",
   "metadata": {},
   "outputs": [
    {
     "name": "stderr",
     "output_type": "stream",
     "text": [
      "/tmp/ipykernel_151903/1901439954.py:2: LangChainDeprecationWarning: The class `ChatOpenAI` was deprecated in LangChain 0.0.10 and will be removed in 1.0. An updated version of the class exists in the :class:`~langchain-openai package and should be used instead. To use it run `pip install -U :class:`~langchain-openai` and import as `from :class:`~langchain_openai import ChatOpenAI``.\n",
      "  llm = ChatOpenAI(\n"
     ]
    }
   ],
   "source": [
    "load_dotenv()\n",
    "llm = ChatOpenAI(\n",
    "    openai_api_base=os.getenv(\"OPENAI_API_BASE\"), \n",
    "    openai_api_key=os.getenv(\"OPENAI_API_KEY\"),              \n",
    "    model_name=os.getenv(\"LLM_MODEL_NAME\")          \n",
    ")\n",
    "llm = LangchainLLMWrapper(llm)\n",
    "\n",
    "embedding = LocalAIEmbeddings(\n",
    "    openai_api_base=os.getenv(\"EMBED_URL\"), \n",
    "    openai_api_key=os.getenv(\"EMBED_TOKEN\"), \n",
    "    model=os.getenv(\"EMBED_MODEL\")\n",
    ")\n",
    "embedding = LangchainEmbeddingsWrapper(embedding)"
   ]
  },
  {
   "cell_type": "markdown",
   "id": "3c59d835",
   "metadata": {},
   "source": [
    "# First Evaluation"
   ]
  },
  {
   "cell_type": "code",
   "execution_count": null,
   "id": "537bcfbf",
   "metadata": {},
   "outputs": [],
   "source": [
    "def start_evaluate(test_set_file, output_file):\n",
    "    with open(test_set_file, 'r', encoding='utf-8') as file:\n",
    "        data = json.load(file)\n",
    "\n",
    "    if os.path.exists(output_file):\n",
    "        existing_df = pd.read_csv(output_file)\n",
    "    else:\n",
    "        existing_df = pd.DataFrame(columns=[\n",
    "            'user_input', 'response', 'reference',\n",
    "            'answer_correctness', 'answer_relevancy'\n",
    "        ])\n",
    "\n",
    "    existing_df.fillna('', inplace=True)\n",
    "\n",
    "    for idx, (q, a, g) in enumerate(zip(data['question'], data['answer'], data['ground_truth']), start=1):\n",
    "        short_q = q[:50].replace('\\n', ' ')\n",
    "        print(f\"[{idx}] Processing question: \\\"{short_q}...\\\"\")\n",
    "        if a == \"x\":\n",
    "            print(f\"[{idx}] Skipped (x in ans)\")\n",
    "            continue\n",
    "        match = existing_df[\n",
    "            (existing_df['user_input'] == q) &\n",
    "            (existing_df['response'] == a) &\n",
    "            (existing_df['reference'] == g)\n",
    "        ]\n",
    "        if not match.empty:\n",
    "            existing_row = match.iloc[0]\n",
    "            correctness = pd.to_numeric(existing_row['answer_correctness'], errors='coerce')\n",
    "            relevancy = pd.to_numeric(existing_row['answer_relevancy'], errors='coerce')\n",
    "            if (\n",
    "                not pd.isna(correctness) and not pd.isna(relevancy) and\n",
    "                correctness > 0.0 and relevancy > 0.0\n",
    "            ):\n",
    "                print(f\"[{idx}] Skipped (already evaluated with valid metrics)\")\n",
    "                continue\n",
    "\n",
    "        print(f\"[{idx}] Running evaluation...\")\n",
    "        single_data = {\n",
    "            \"question\": [q],\n",
    "            \"answer\": [a],\n",
    "            \"ground_truth\": [g]\n",
    "        }\n",
    "        single_dataset = Dataset.from_dict(single_data)\n",
    "\n",
    "        try:\n",
    "            results = evaluate(\n",
    "                dataset=single_dataset,\n",
    "                metrics=[answer_correctness, answer_relevancy],\n",
    "                llm=llm,\n",
    "                embeddings=embedding\n",
    "            )\n",
    "            row_df = results.to_pandas()\n",
    "            print(f\"[{idx}] Evaluation completed successfully.\")\n",
    "        except Exception as e:\n",
    "            print(f\"[{idx}] Evaluation error: {e}\")\n",
    "            row_df = pd.DataFrame([{\n",
    "                'user_input': q,\n",
    "                'response': a,\n",
    "                'reference': g,\n",
    "                'answer_correctness': 0.0,\n",
    "                'answer_relevancy': 0.0\n",
    "            }])\n",
    "\n",
    "        existing_df = pd.concat([existing_df, row_df], ignore_index=True)\n",
    "        existing_df.drop_duplicates(\n",
    "            subset=['user_input', 'response', 'reference'], keep='last', inplace=True\n",
    "        )\n",
    "        existing_df.to_csv(output_file, index=False)\n",
    "\n",
    "    print(f\"All done — results saved to: {output_file}\")\n"
   ]
  },
  {
   "cell_type": "markdown",
   "id": "af39f85a",
   "metadata": {},
   "source": [
    "## Evaluation with meta-llama/llama-4-scout-17b-16e-instruct"
   ]
  },
  {
   "cell_type": "code",
   "execution_count": 13,
   "id": "47ec78f0",
   "metadata": {},
   "outputs": [],
   "source": [
    "llm = ChatOpenAI(\n",
    "    openai_api_base=os.getenv(\"OPENAI_API_BASE\"), \n",
    "    openai_api_key=os.getenv(\"OPENAI_API_KEY\"),              \n",
    "    model_name=\"meta-llama/llama-4-scout-17b-16e-instruct\"         \n",
    ")\n",
    "llm = LangchainLLMWrapper(llm)\n",
    "\n",
    "embedding = LocalAIEmbeddings(\n",
    "    openai_api_base=os.getenv(\"EMBED_URL\"), \n",
    "    openai_api_key=os.getenv(\"EMBED_TOKEN\"), \n",
    "    model=os.getenv(\"EMBED_MODEL\")\n",
    ")\n",
    "embedding = LangchainEmbeddingsWrapper(embedding)"
   ]
  },
  {
   "cell_type": "code",
   "execution_count": 14,
   "id": "4df1a4cb",
   "metadata": {},
   "outputs": [
    {
     "name": "stdout",
     "output_type": "stream",
     "text": [
      "FILE: ./results/study_rules/method1_lightrag_hybrid.csv\n",
      "Average answer correctness: 0.5122069836697539\n",
      "Average answer relevancy: 0.6982478951966491\n"
     ]
    }
   ],
   "source": [
    "test_set_file = './test_data/study_rules/test_set_method1_lightrag_hybrid.json'\n",
    "output_file = './results/study_rules/method1_lightrag_hybrid.csv'\n",
    "\n",
    "#results = start_evaluate(test_set_file, output_file)\n",
    "\n",
    "df_lr_hybrid = pd.read_csv(output_file)\n",
    "print(f\"FILE: {output_file}\")\n",
    "print(\"Average answer correctness:\", df_lr_hybrid['answer_correctness'].mean())\n",
    "print(\"Average answer relevancy:\", df_lr_hybrid['answer_relevancy'].mean())"
   ]
  },
  {
   "cell_type": "code",
   "execution_count": 15,
   "id": "b3ef078b",
   "metadata": {},
   "outputs": [
    {
     "name": "stdout",
     "output_type": "stream",
     "text": [
      "FILE: ./results/study_rules/method1_lightrag_local.csv\n",
      "Average answer correctness: 0.4249733737262503\n",
      "Average answer relevancy: 0.6681967775090379\n"
     ]
    }
   ],
   "source": [
    "test_set_file = './test_data/study_rules/test_set_method1_lightrag_local.json'\n",
    "output_file = './results/study_rules/method1_lightrag_local.csv'\n",
    "\n",
    "#results = start_evaluate(test_set_file, output_file)\n",
    "\n",
    "df_lr_local = pd.read_csv(output_file)\n",
    "print(f\"FILE: {output_file}\")\n",
    "print(\"Average answer correctness:\", df_lr_local['answer_correctness'].mean())\n",
    "print(\"Average answer relevancy:\", df_lr_local['answer_relevancy'].mean())"
   ]
  },
  {
   "cell_type": "code",
   "execution_count": 16,
   "id": "d6762cd1",
   "metadata": {},
   "outputs": [
    {
     "name": "stdout",
     "output_type": "stream",
     "text": [
      "FILE: ./results/study_rules/method2_graphrag_drift.csv\n",
      "Average answer correctness: 0.3500237400348909\n",
      "Average answer relevancy: 0.7774822101039724\n"
     ]
    }
   ],
   "source": [
    "test_set_file = './test_data/study_rules/test_set_method2_graphrag_drift.json'\n",
    "output_file = './results/study_rules/method2_graphrag_drift.csv'\n",
    "\n",
    "#results = start_evaluate(test_set_file, output_file)\n",
    "\n",
    "df_gr_drift = pd.read_csv(output_file)\n",
    "print(f\"FILE: {output_file}\")\n",
    "print(\"Average answer correctness:\", df_gr_drift['answer_correctness'].mean())\n",
    "print(\"Average answer relevancy:\", df_gr_drift['answer_relevancy'].mean())"
   ]
  },
  {
   "cell_type": "code",
   "execution_count": 17,
   "id": "bff0d871",
   "metadata": {},
   "outputs": [
    {
     "name": "stdout",
     "output_type": "stream",
     "text": [
      "FILE: ./results/study_rules/naive_rag.csv\n",
      "Average answer correctness: 0.5506225438324175\n",
      "Average answer relevancy: 0.7527904156645951\n"
     ]
    }
   ],
   "source": [
    "test_set_file = './test_data/study_rules/test_set_naive_rag.json'\n",
    "output_file = './results/study_rules/naive_rag.csv'\n",
    "\n",
    "#results = start_evaluate(test_set_file, output_file)\n",
    "\n",
    "df_naive = pd.read_csv(output_file)\n",
    "print(f\"FILE: {output_file}\")\n",
    "print(\"Average answer correctness:\", df_naive['answer_correctness'].mean())\n",
    "print(\"Average answer relevancy:\", df_naive['answer_relevancy'].mean())"
   ]
  },
  {
   "cell_type": "code",
   "execution_count": null,
   "id": "fa38a2f3",
   "metadata": {},
   "outputs": [
    {
     "name": "stdout",
     "output_type": "stream",
     "text": [
      "FILE: ./results/study_rules/naive_rag_small_top_k.csv\n",
      "Average answer correctness: 0.5652947016792146\n",
      "Average answer relevancy: 0.6714817258125219\n"
     ]
    }
   ],
   "source": [
    "test_set_file = './test_data/study_rules/test_set_naive_rag_small_top_k.json'\n",
    "output_file = './results/study_rules/naive_rag_small_top_k.csv'\n",
    "\n",
    "#results = start_evaluate(test_set_file, output_file)\n",
    "\n",
    "df_naive_small_k = pd.read_csv(output_file)\n",
    "print(f\"FILE: {output_file}\")\n",
    "print(\"Average answer correctness:\", df_naive_small_k['answer_correctness'].mean())\n",
    "print(\"Average answer relevancy:\", df_naive_small_k['answer_relevancy'].mean())"
   ]
  },
  {
   "cell_type": "markdown",
   "id": "c0821265",
   "metadata": {},
   "source": [
    "## Evaluation with deepseek-r1-distill-llama-70b"
   ]
  },
  {
   "cell_type": "code",
   "execution_count": 24,
   "id": "0d1518f8",
   "metadata": {},
   "outputs": [],
   "source": [
    "llm = ChatOpenAI(\n",
    "    openai_api_base=os.getenv(\"OPENAI_API_BASE\"), \n",
    "    openai_api_key=os.getenv(\"OPENAI_API_KEY\"),              \n",
    "    model_name=\"deepseek-r1-distill-llama-70b\"         \n",
    ")\n",
    "llm = LangchainLLMWrapper(llm)\n",
    "\n",
    "embedding = LocalAIEmbeddings(\n",
    "    openai_api_base=os.getenv(\"EMBED_URL\"), \n",
    "    openai_api_key=os.getenv(\"EMBED_TOKEN\"), \n",
    "    model=os.getenv(\"EMBED_MODEL\")\n",
    ")\n",
    "embedding = LangchainEmbeddingsWrapper(embedding)"
   ]
  },
  {
   "cell_type": "code",
   "execution_count": 20,
   "id": "087bd949",
   "metadata": {},
   "outputs": [
    {
     "name": "stdout",
     "output_type": "stream",
     "text": [
      "FILE: ./results/study_rules/method1_lightrag_hybrid_deepseek.csv\n",
      "Average answer correctness: 0.49797992824280307\n",
      "Average answer relevancy: 0.7349126593819586\n"
     ]
    }
   ],
   "source": [
    "test_set_file = './test_data/study_rules/test_set_method1_lightrag_hybrid.json'\n",
    "output_file = './results/study_rules/method1_lightrag_hybrid_deepseek.csv'\n",
    "\n",
    "#results = start_evaluate(test_set_file, output_file)\n",
    "\n",
    "df_lr_hybrid_deepseek = pd.read_csv(output_file)\n",
    "print(f\"FILE: {output_file}\")\n",
    "print(\"Average answer correctness:\", df_lr_hybrid_deepseek['answer_correctness'].mean())\n",
    "print(\"Average answer relevancy:\", df_lr_hybrid_deepseek['answer_relevancy'].mean())"
   ]
  },
  {
   "cell_type": "code",
   "execution_count": 21,
   "id": "6c04f9e2",
   "metadata": {},
   "outputs": [
    {
     "name": "stdout",
     "output_type": "stream",
     "text": [
      "FILE: ./results/study_rules/method1_lightrag_local_deepseek.csv\n",
      "Average answer correctness: 0.4016634365973334\n",
      "Average answer relevancy: 0.5804095482320186\n"
     ]
    }
   ],
   "source": [
    "test_set_file = './test_data/study_rules/test_set_method1_lightrag_local.json'\n",
    "output_file = './results/study_rules/method1_lightrag_local_deepseek.csv'\n",
    "\n",
    "#results = start_evaluate(test_set_file, output_file)\n",
    "\n",
    "df_lr_local_deepseek = pd.read_csv(output_file)\n",
    "print(f\"FILE: {output_file}\")\n",
    "print(\"Average answer correctness:\", df_lr_local_deepseek['answer_correctness'].mean())\n",
    "print(\"Average answer relevancy:\", df_lr_local_deepseek['answer_relevancy'].mean())"
   ]
  },
  {
   "cell_type": "code",
   "execution_count": 22,
   "id": "80a1c313",
   "metadata": {},
   "outputs": [
    {
     "name": "stdout",
     "output_type": "stream",
     "text": [
      "FILE: ./results/study_rules/method2_graphrag_drift_deepseek.csv\n",
      "Average answer correctness: 0.39543015771151035\n",
      "Average answer relevancy: 0.7339491973490562\n"
     ]
    }
   ],
   "source": [
    "test_set_file = './test_data/study_rules/test_set_method2_graphrag_drift.json'\n",
    "output_file = './results/study_rules/method2_graphrag_drift_deepseek.csv'\n",
    "\n",
    "#results = start_evaluate(test_set_file, output_file)\n",
    "\n",
    "df_gr_drift_deepseek = pd.read_csv(output_file)\n",
    "print(f\"FILE: {output_file}\")\n",
    "print(\"Average answer correctness:\", df_gr_drift_deepseek['answer_correctness'].mean())\n",
    "print(\"Average answer relevancy:\", df_gr_drift_deepseek['answer_relevancy'].mean())"
   ]
  },
  {
   "cell_type": "code",
   "execution_count": 27,
   "id": "6df536c2",
   "metadata": {},
   "outputs": [
    {
     "name": "stdout",
     "output_type": "stream",
     "text": [
      "FILE: ./results/study_rules/naive_rag_deepseek.csv\n",
      "Average answer correctness: 0.5585839181481368\n",
      "Average answer relevancy: 0.7402449547731885\n"
     ]
    }
   ],
   "source": [
    "test_set_file = './test_data/study_rules/test_set_naive_rag.json'\n",
    "output_file = './results/study_rules/naive_rag_deepseek.csv'\n",
    "\n",
    "#results = start_evaluate(test_set_file, output_file)\n",
    "\n",
    "df_naive_deepseek = pd.read_csv(output_file)\n",
    "print(f\"FILE: {output_file}\")\n",
    "print(\"Average answer correctness:\", df_naive_deepseek['answer_correctness'].mean())\n",
    "print(\"Average answer relevancy:\", df_naive_deepseek['answer_relevancy'].mean())"
   ]
  },
  {
   "cell_type": "code",
   "execution_count": 30,
   "id": "1811176d",
   "metadata": {},
   "outputs": [
    {
     "name": "stdout",
     "output_type": "stream",
     "text": [
      "FILE: ./results/study_rules/naive_rag_small_top_k_deepseek.csv\n",
      "Average answer correctness: 0.5452149662099343\n",
      "Average answer relevancy: 0.6653694964764589\n"
     ]
    }
   ],
   "source": [
    "test_set_file = './test_data/study_rules/test_set_naive_rag_small_top_k.json'\n",
    "output_file = './results/study_rules/naive_rag_small_top_k_deepseek.csv'\n",
    "\n",
    "#results = start_evaluate(test_set_file, output_file)\n",
    "\n",
    "df_naive_small_k_deepseek = pd.read_csv(output_file)\n",
    "print(f\"FILE: {output_file}\")\n",
    "print(\"Average answer correctness:\", df_naive_small_k_deepseek['answer_correctness'].mean())\n",
    "print(\"Average answer relevancy:\", df_naive_small_k_deepseek['answer_relevancy'].mean())"
   ]
  },
  {
   "cell_type": "markdown",
   "id": "2deccca0",
   "metadata": {},
   "source": [
    "# Second Evaluation"
   ]
  },
  {
   "cell_type": "code",
   "execution_count": 4,
   "id": "9fc59532",
   "metadata": {},
   "outputs": [],
   "source": [
    "def start_evaluate_2(test_set_file, output_file):\n",
    "    with open(test_set_file, 'r', encoding='utf-8') as file:\n",
    "        data = json.load(file)\n",
    "\n",
    "    if os.path.exists(output_file):\n",
    "        existing_df = pd.read_csv(output_file)\n",
    "    else:\n",
    "        existing_df = pd.DataFrame(columns=[\n",
    "            'user_input', 'response', 'reference',\n",
    "            'answer_correctness', 'answer_relevancy', 'factual_correctness(mode=f1)',\n",
    "            'factual_correctness(mode=recall)', 'semantic_similarity'\n",
    "        ])\n",
    "\n",
    "    existing_df.fillna('', inplace=True)\n",
    "\n",
    "    for idx, (q, a, g) in enumerate(zip(data['question'], data['answer'], data['ground_truth']), start=1):\n",
    "        short_q = q[:50].replace('\\n', ' ')\n",
    "        print(f\"[{idx}] Processing question: \\\"{short_q}...\\\"\")\n",
    "        if a == \"x\":\n",
    "            print(f\"[{idx}] Skipped (x in ans)\")\n",
    "            continue\n",
    "        match = existing_df[\n",
    "            (existing_df['user_input'] == q) &\n",
    "            (existing_df['response'] == a) &\n",
    "            (existing_df['reference'] == g)\n",
    "        ]\n",
    "        if not match.empty:\n",
    "            existing_row = match.iloc[0]\n",
    "            correctness = pd.to_numeric(existing_row['answer_correctness'], errors='coerce')\n",
    "            relevancy = pd.to_numeric(existing_row['answer_relevancy'], errors='coerce')\n",
    "            factual_correctness = pd.to_numeric(existing_row['factual_correctness(mode=f1)'], errors='coerce')\n",
    "            factual_correctness_recall = pd.to_numeric(existing_row['factual_correctness(mode=recall)'], errors='coerce')\n",
    "            semantic_similarity = pd.to_numeric(existing_row['semantic_similarity'], errors='coerce')\n",
    "            if (\n",
    "                not pd.isna(correctness) and not pd.isna(relevancy) and not pd.isna(factual_correctness) \n",
    "                and not pd.isna(factual_correctness_recall) and not pd.isna(semantic_similarity) and \n",
    "                correctness > 0.0 and relevancy > 0.0 and factual_correctness > 0.0  and factual_correctness_recall > 0.0\n",
    "                and semantic_similarity > 0.0\n",
    "            ):\n",
    "                print(f\"[{idx}] Skipped (already evaluated with valid metrics)\")\n",
    "                continue\n",
    "\n",
    "        print(f\"[{idx}] Running evaluation...\")\n",
    "        single_data = {\n",
    "            \"question\": [q],\n",
    "            \"answer\": [a],\n",
    "            \"ground_truth\": [g]\n",
    "        }\n",
    "        single_dataset = Dataset.from_dict(single_data)\n",
    "\n",
    "        try:\n",
    "            results = evaluate(\n",
    "                dataset=single_dataset,\n",
    "                metrics=[answer_correctness, answer_relevancy, FactualCorrectness(),\n",
    "                         FactualCorrectness(mode=\"recall\"), SemanticSimilarity()],\n",
    "                llm=llm,\n",
    "                embeddings=embedding\n",
    "            )\n",
    "            # results = evaluate(\n",
    "            #     dataset=single_dataset,\n",
    "            #     metrics=[answer_correctness, answer_relevancy, FactualCorrectness(atomicity=\"high\", coverage=\"high\"),\n",
    "            #              FactualCorrectness(mode=\"recall\",atomicity=\"high\", coverage=\"high\"), SemanticSimilarity()],\n",
    "            #     llm=llm,\n",
    "            #     embeddings=embedding\n",
    "            # )\n",
    "            print(results)\n",
    "            row_df = results.to_pandas()\n",
    "            print(f\"[{idx}] Evaluation completed successfully.\")\n",
    "        except Exception as e:\n",
    "            print(f\"[{idx}] Evaluation error: {e}\")\n",
    "            row_df = pd.DataFrame([{\n",
    "                'user_input': q,\n",
    "                'response': a,\n",
    "                'reference': g,\n",
    "                'answer_correctness': 0.0,\n",
    "                'answer_relevancy': 0.0,\n",
    "                'factual_correctness(mode=f1)': 0.0,\n",
    "                'factual_correctness(mode=recall)': 0.0,\n",
    "                'semantic_similarity': 0.0\n",
    "            }])\n",
    "\n",
    "        existing_df = pd.concat([existing_df, row_df], ignore_index=True)\n",
    "        existing_df.drop_duplicates(\n",
    "            subset=['user_input', 'response', 'reference'], keep='last', inplace=True\n",
    "        )\n",
    "        existing_df.to_csv(output_file, index=False)\n",
    "\n",
    "    print(f\"All done — results saved to: {output_file}\")"
   ]
  },
  {
   "cell_type": "code",
   "execution_count": 5,
   "id": "bb1be1e2",
   "metadata": {},
   "outputs": [],
   "source": [
    "llm = ChatOpenAI(\n",
    "    openai_api_base=os.getenv(\"OPENAI_API_BASE\"), \n",
    "    openai_api_key=os.getenv(\"OPENAI_API_KEY\"),              \n",
    "    model_name=\"meta-llama/llama-4-scout-17b-16e-instruct\"         \n",
    ")\n",
    "llm = LangchainLLMWrapper(llm)\n",
    "\n",
    "embedding = LocalAIEmbeddings(\n",
    "    openai_api_base=os.getenv(\"EMBED_URL\"), \n",
    "    openai_api_key=os.getenv(\"EMBED_TOKEN\"), \n",
    "    model=os.getenv(\"EMBED_MODEL\")\n",
    ")\n",
    "embedding = LangchainEmbeddingsWrapper(embedding)"
   ]
  },
  {
   "cell_type": "markdown",
   "id": "5821634d",
   "metadata": {},
   "source": [
    "## Study Rules Evaluation with meta-llama/llama-4-scout-17b-16e-instruct"
   ]
  },
  {
   "cell_type": "code",
   "execution_count": null,
   "id": "56a1f993",
   "metadata": {},
   "outputs": [
    {
     "name": "stdout",
     "output_type": "stream",
     "text": [
      "FILE: ./results/study_rules_2/method1_lightrag_hybrid.csv\n",
      "Average answer correctness: 0.5093708492159725\n",
      "Average answer relevancy: 0.6982478951966493\n",
      "Average factual correctness(mode=f1): 0.36714285714285716\n",
      "Average factual correctness(mode=recall): 0.3614285714285715\n",
      "Average semantic similarity: 0.7553770316263085\n"
     ]
    }
   ],
   "source": [
    "test_set_file = './test_data/study_rules/test_set_method1_lightrag_hybrid.json'\n",
    "output_file = './results/study_rules_2/method1_lightrag_hybrid.csv'\n",
    "\n",
    "#results = start_evaluate_2(test_set_file, output_file)\n",
    "\n",
    "df_lr_hybrid2 = pd.read_csv(output_file)\n",
    "print(f\"FILE: {output_file}\")\n",
    "print(\"Average answer correctness:\", df_lr_hybrid2['answer_correctness'].mean())\n",
    "print(\"Average answer relevancy:\", df_lr_hybrid2['answer_relevancy'].mean())\n",
    "print(\"Average factual correctness(mode=f1):\", df_lr_hybrid2['factual_correctness(mode=f1)'].mean())\n",
    "print(\"Average factual correctness(mode=recall):\", df_lr_hybrid2['factual_correctness(mode=recall)'].mean())\n",
    "print(\"Average semantic similarity:\", df_lr_hybrid2['semantic_similarity'].mean())"
   ]
  },
  {
   "cell_type": "code",
   "execution_count": null,
   "id": "b773ac51",
   "metadata": {},
   "outputs": [
    {
     "name": "stdout",
     "output_type": "stream",
     "text": [
      "FILE: ./results/study_rules_2/method1_lightrag_local.csv\n",
      "Average answer correctness: 0.4249733737262503\n",
      "Average answer relevancy: 0.6681967775090379\n",
      "Average factual correctness(mode=f1): 0.2865\n",
      "Average factual correctness(mode=recall): 0.2575\n",
      "Average semantic similarity: 0.7379938908387216\n"
     ]
    }
   ],
   "source": [
    "test_set_file = './test_data/study_rules/test_set_method1_lightrag_local.json'\n",
    "output_file = './results/{base}/method1_lightrag_local.csv'\n",
    "\n",
    "#results = start_evaluate_2(test_set_file, output_file)\n",
    "\n",
    "df_lr_local2 = pd.read_csv(output_file)\n",
    "print(f\"FILE: {output_file}\")\n",
    "print(\"Average answer correctness:\", df_lr_local2['answer_correctness'].mean())\n",
    "print(\"Average answer relevancy:\", df_lr_local2['answer_relevancy'].mean())\n",
    "print(\"Average factual correctness(mode=f1):\", df_lr_local2['factual_correctness(mode=f1)'].mean())\n",
    "print(\"Average factual correctness(mode=recall):\", df_lr_local2['factual_correctness(mode=recall)'].mean())\n",
    "print(\"Average semantic similarity:\", df_lr_local2['semantic_similarity'].mean())"
   ]
  },
  {
   "cell_type": "code",
   "execution_count": 15,
   "id": "c7c320bb",
   "metadata": {},
   "outputs": [
    {
     "name": "stdout",
     "output_type": "stream",
     "text": [
      "FILE: ./results/study_rules_2/method2_graphrag_drift.csv\n",
      "Average answer correctness: 0.3500237400348909\n",
      "Average answer relevancy: 0.7774822101039724\n",
      "Average factual correctness(mode=f1): 0.2935\n",
      "Average factual correctness(mode=recall): 0.34400000000000003\n",
      "Average semantic similarity: 0.7109516323324775\n"
     ]
    }
   ],
   "source": [
    "test_set_file = './test_data/study_rules/test_set_method2_graphrag_drift.json'\n",
    "output_file = './results/study_rules_2/method2_graphrag_drift.csv'\n",
    "\n",
    "#results = start_evaluate_2(test_set_file, output_file)\n",
    "\n",
    "df_gr_drift2 = pd.read_csv(output_file)\n",
    "print(f\"FILE: {output_file}\")\n",
    "print(\"Average answer correctness:\", df_gr_drift2['answer_correctness'].mean())\n",
    "print(\"Average answer relevancy:\", df_gr_drift2['answer_relevancy'].mean())\n",
    "print(\"Average factual correctness(mode=f1):\", df_gr_drift2['factual_correctness(mode=f1)'].mean())\n",
    "print(\"Average factual correctness(mode=recall):\", df_gr_drift2['factual_correctness(mode=recall)'].mean())\n",
    "print(\"Average semantic similarity:\", df_gr_drift2['semantic_similarity'].mean())"
   ]
  },
  {
   "cell_type": "code",
   "execution_count": 6,
   "id": "4cdd0561",
   "metadata": {},
   "outputs": [
    {
     "name": "stdout",
     "output_type": "stream",
     "text": [
      "FILE: ./results/study_rules_2/naive_rag.csv\n",
      "Average answer correctness: 0.5502497388212984\n",
      "Average answer relevancy: 0.7530999940893139\n",
      "Average factual correctness(mode=f1): 0.4615\n",
      "Average factual correctness(mode=recall): 0.43050000000000005\n",
      "Average semantic similarity: 0.7995977826213055\n"
     ]
    }
   ],
   "source": [
    "test_set_file = './test_data/study_rules/test_set_naive_rag.json'\n",
    "output_file = './results/study_rules_2/naive_rag.csv'\n",
    "\n",
    "#results = start_evaluate_2(test_set_file, output_file)\n",
    "\n",
    "df_naive2 = pd.read_csv(output_file)\n",
    "print(f\"FILE: {output_file}\")\n",
    "print(\"Average answer correctness:\", df_naive2['answer_correctness'].mean())\n",
    "print(\"Average answer relevancy:\", df_naive2['answer_relevancy'].mean())\n",
    "print(\"Average factual correctness(mode=f1):\", df_naive2['factual_correctness(mode=f1)'].mean())\n",
    "print(\"Average factual correctness(mode=recall):\", df_naive2['factual_correctness(mode=recall)'].mean())\n",
    "print(\"Average semantic similarity:\", df_naive2['semantic_similarity'].mean())"
   ]
  },
  {
   "cell_type": "code",
   "execution_count": 8,
   "id": "ec8949f3",
   "metadata": {},
   "outputs": [
    {
     "name": "stdout",
     "output_type": "stream",
     "text": [
      "FILE: ./results/study_rules_2/naive_rag_small_top_k.csv\n",
      "Average answer correctness: 0.5536140471861982\n",
      "Average answer relevancy: 0.6617379602286304\n",
      "Average factual correctness(mode=f1): 0.45050000000000007\n",
      "Average factual correctness(mode=recall): 0.4425\n",
      "Average semantic similarity: 0.7969714609933498\n"
     ]
    }
   ],
   "source": [
    "test_set_file = './test_data/study_rules/test_set_naive_rag_small_top_k.json'\n",
    "output_file = './results/study_rules_2/naive_rag_small_top_k.csv'\n",
    "\n",
    "#results = start_evaluate_2(test_set_file, output_file)\n",
    "\n",
    "df_naive_small_k2 = pd.read_csv(output_file)\n",
    "print(f\"FILE: {output_file}\")\n",
    "print(\"Average answer correctness:\", df_naive_small_k2['answer_correctness'].mean())\n",
    "print(\"Average answer relevancy:\", df_naive_small_k2['answer_relevancy'].mean())\n",
    "print(\"Average factual correctness(mode=f1):\", df_naive_small_k2['factual_correctness(mode=f1)'].mean())\n",
    "print(\"Average factual correctness(mode=recall):\", df_naive_small_k2['factual_correctness(mode=recall)'].mean())\n",
    "print(\"Average semantic similarity:\", df_naive_small_k2['semantic_similarity'].mean())"
   ]
  },
  {
   "cell_type": "markdown",
   "id": "0fd70f5c",
   "metadata": {},
   "source": [
    "## Genetics Evaluation with meta-llama/llama-4-scout-17b-16e-instruct"
   ]
  },
  {
   "cell_type": "code",
   "execution_count": 8,
   "id": "8bfa9055",
   "metadata": {},
   "outputs": [
    {
     "name": "stdout",
     "output_type": "stream",
     "text": [
      "FILE: ./results/genetics/method1_lightrag_hybrid.csv\n",
      "Average answer correctness: 0.4910059915359201\n",
      "Average answer relevancy: 0.8405683556795586\n",
      "Average factual correctness(mode=f1): 0.4567499999999999\n",
      "Average factual correctness(mode=recall): 0.725\n",
      "Average semantic similarity: 0.6850314441914681\n"
     ]
    }
   ],
   "source": [
    "test_set_file = './test_data/genetics/test_set_method1_lightrag_hybrid.json'\n",
    "output_file = './results/genetics/method1_lightrag_hybrid.csv'\n",
    "\n",
    "#results = start_evaluate_2(test_set_file, output_file)\n",
    "\n",
    "df_lr_hybrid2_genetics = pd.read_csv(output_file)\n",
    "print(f\"FILE: {output_file}\")\n",
    "print(\"Average answer correctness:\", df_lr_hybrid2_genetics['answer_correctness'].mean())\n",
    "print(\"Average answer relevancy:\", df_lr_hybrid2_genetics['answer_relevancy'].mean())\n",
    "print(\"Average factual correctness(mode=f1):\", df_lr_hybrid2_genetics['factual_correctness(mode=f1)'].mean())\n",
    "print(\"Average factual correctness(mode=recall):\", df_lr_hybrid2_genetics['factual_correctness(mode=recall)'].mean())\n",
    "print(\"Average semantic similarity:\", df_lr_hybrid2_genetics['semantic_similarity'].mean())"
   ]
  },
  {
   "cell_type": "code",
   "execution_count": 6,
   "id": "e3287c82",
   "metadata": {},
   "outputs": [
    {
     "name": "stdout",
     "output_type": "stream",
     "text": [
      "FILE: ./results/genetics/method2_graphrag_drift.csv\n",
      "Average answer correctness: 0.48635755844525236\n",
      "Average answer relevancy: 0.8350316902106176\n",
      "Average factual correctness(mode=f1): 0.386\n",
      "Average factual correctness(mode=recall): 0.634\n",
      "Average semantic similarity: 0.6698591849433784\n"
     ]
    }
   ],
   "source": [
    "test_set_file = './test_data/genetics/test_set_method2_graphrag_drift.json'\n",
    "output_file = './results/genetics/method2_graphrag_drift.csv'\n",
    "\n",
    "#results = start_evaluate_2(test_set_file, output_file)\n",
    "\n",
    "df_gr_drift2_genetics = pd.read_csv(output_file)\n",
    "print(f\"FILE: {output_file}\")\n",
    "print(\"Average answer correctness:\", df_gr_drift2_genetics['answer_correctness'].mean())\n",
    "print(\"Average answer relevancy:\", df_gr_drift2_genetics['answer_relevancy'].mean())\n",
    "print(\"Average factual correctness(mode=f1):\", df_gr_drift2_genetics['factual_correctness(mode=f1)'].mean())\n",
    "print(\"Average factual correctness(mode=recall):\", df_gr_drift2_genetics['factual_correctness(mode=recall)'].mean())\n",
    "print(\"Average semantic similarity:\", df_gr_drift2_genetics['semantic_similarity'].mean())"
   ]
  },
  {
   "cell_type": "code",
   "execution_count": 16,
   "id": "2c1b8102",
   "metadata": {},
   "outputs": [
    {
     "name": "stdout",
     "output_type": "stream",
     "text": [
      "FILE: ./results/genetics/naive_rag_5_top_k.csv\n",
      "Average answer correctness: 0.5004901679689822\n",
      "Average answer relevancy: 0.8117106458745649\n",
      "Average factual correctness(mode=f1): 0.458\n",
      "Average factual correctness(mode=recall): 0.736\n",
      "Average semantic similarity: 0.6895372559307276\n"
     ]
    }
   ],
   "source": [
    "test_set_file = './test_data/genetics/test_set_naive_rag_5_top_k.json'\n",
    "output_file = './results/genetics/naive_rag_5_top_k.csv'\n",
    "\n",
    "#results = start_evaluate_2(test_set_file, output_file)\n",
    "\n",
    "df_naive_small_k2_genetics = pd.read_csv(output_file)\n",
    "print(f\"FILE: {output_file}\")\n",
    "print(\"Average answer correctness:\", df_naive_small_k2_genetics['answer_correctness'].mean())\n",
    "print(\"Average answer relevancy:\", df_naive_small_k2_genetics['answer_relevancy'].mean())\n",
    "print(\"Average factual correctness(mode=f1):\", df_naive_small_k2_genetics['factual_correctness(mode=f1)'].mean())\n",
    "print(\"Average factual correctness(mode=recall):\", df_naive_small_k2_genetics['factual_correctness(mode=recall)'].mean())\n",
    "print(\"Average semantic similarity:\", df_naive_small_k2_genetics['semantic_similarity'].mean())"
   ]
  },
  {
   "cell_type": "markdown",
   "id": "b7acb41a",
   "metadata": {},
   "source": [
    "# Final Result"
   ]
  },
  {
   "cell_type": "code",
   "execution_count": 32,
   "id": "23a98b64",
   "metadata": {},
   "outputs": [],
   "source": [
    "import pandas as pd\n",
    "import numpy as np\n",
    "import matplotlib.pyplot as plt\n",
    "\n",
    "def analyze(base):\n",
    "    # ==== Ustawienia estetyki wykresów ====\n",
    "    plt.rcParams.update({\n",
    "        \"figure.figsize\": (10, 6),\n",
    "        \"axes.grid\": True,\n",
    "        \"grid.alpha\": 0.25,\n",
    "        \"axes.spines.top\": False,\n",
    "        \"axes.spines.right\": False,\n",
    "        \"axes.titlesize\": 14,\n",
    "        \"axes.labelsize\": 12,\n",
    "        \"xtick.labelsize\": 11,\n",
    "        \"ytick.labelsize\": 11,\n",
    "    })\n",
    "\n",
    "    # ==== Wczytanie ====\n",
    "    lightrag_result = pd.read_csv(f'./results/{base}/method1_lightrag_hybrid.csv')\n",
    "    graphrag_result = pd.read_csv(f'./results/{base}/method2_graphrag_drift.csv')\n",
    "    naiverag_result = pd.read_csv(f'./results/{base}/naive_rag_small_top_k.csv')\n",
    "\n",
    "    # ==== Metryki: bez 'answer_correctness' + skrócone nazwy ====\n",
    "    metric_map = {\n",
    "        \"answer_relevancy\": \"Rel\",\n",
    "        \"factual_correctness(mode=f1)\": \"Fact-F1\",\n",
    "        \"factual_correctness(mode=recall)\": \"Fact-Rec\",\n",
    "        \"semantic_similarity\": \"SemSim\",\n",
    "    }\n",
    "    metrics_full  = list(metric_map.keys())\n",
    "    metrics_short = list(metric_map.values())\n",
    "\n",
    "    # ==== Podsumowanie (mean/std/count) ====\n",
    "    def one_summary(df, label):\n",
    "        dfm = df[metrics_full].rename(columns=metric_map)\n",
    "        return pd.DataFrame({\n",
    "            (label, \"Mean\"):  dfm.mean(),\n",
    "            (label, \"Std\"):   dfm.std(ddof=1),\n",
    "            (label, \"Count\"): dfm.count(),\n",
    "        })\n",
    "\n",
    "    summary = pd.concat([\n",
    "        one_summary(lightrag_result, \"LightRAG\"),\n",
    "        one_summary(graphrag_result, \"GraphRAG\"),\n",
    "        one_summary(naiverag_result, \"NaiveRAG\"),\n",
    "    ], axis=1)\n",
    "\n",
    "    summary = summary.reindex(columns=pd.MultiIndex.from_product(\n",
    "        [[\"LightRAG\",\"GraphRAG\",\"NaiveRAG\"], [\"Mean\",\"Std\",\"Count\"]]\n",
    "    ))\n",
    "\n",
    "    # ==== Estetyczna tabela summary ====\n",
    "    def highlight_max_mean(row):\n",
    "        means = row.xs(\"Mean\", axis=0, level=1)\n",
    "        if means.isna().all():\n",
    "            return [\"\"] * len(row)\n",
    "        m = means.max()\n",
    "        out = []\n",
    "        for (method, stat) in summary.columns:\n",
    "            if stat == \"Mean\" and np.isclose(row[(method, stat)], m, atol=1e-12):\n",
    "                out.append(\"font-weight: 700; background-color: #808080;\")\n",
    "            else:\n",
    "                out.append(\"\")\n",
    "        return out\n",
    "\n",
    "    styler = summary.style\\\n",
    "        .set_table_styles([\n",
    "            {\"selector\": \"caption\", \"props\": \"caption-side: top; font-size: 16px; font-weight: 700; text-align: left; margin-bottom: 8px;\"},\n",
    "            {\"selector\": \"th.col_heading\", \"props\": \"font-weight: 700; white-space: nowrap;\"},\n",
    "            {\"selector\": \"th.row_heading\", \"props\": \"font-weight: 700;\"},\n",
    "            {\"selector\": \"table\", \"props\": \"border-collapse: collapse;\"},\n",
    "            {\"selector\": \"td, th\", \"props\": \"padding: 6px 10px; border-bottom: 1px solid #ddd;\"},\n",
    "        ])\\\n",
    "        .set_caption(\"Per-method summary (mean / std / count)\")\\\n",
    "        .apply(highlight_max_mean, axis=1)\\\n",
    "        .format({(m,\"Mean\"): \"{:.3f}\" for m in [\"LightRAG\",\"GraphRAG\",\"NaiveRAG\"]})\\\n",
    "        .format({(m,\"Std\"): \"{:.3f}\" for m in [\"LightRAG\",\"GraphRAG\",\"NaiveRAG\"]})\\\n",
    "        .format({(m,\"Count\"): \"{:,.0f}\" for m in [\"LightRAG\",\"GraphRAG\",\"NaiveRAG\"]})\n",
    "\n",
    "    display(styler)\n",
    "\n",
    "    import os\n",
    "    outdir = f\"./results/{base}/analyze\"\n",
    "    os.makedirs(outdir, exist_ok=True)\n",
    "\n",
    "    # --- CSV (MultiIndex OK) ---\n",
    "    summary.to_csv(\n",
    "        f\"{outdir}/per_method_summary.csv\",\n",
    "        float_format=\"%.6f\"\n",
    "    )\n",
    "\n",
    "    # --- Excel: spłaszczamy nagłówki MultiIndex -> \"Metoda_Stat\" ---\n",
    "    summary_xlsx = summary.copy()\n",
    "    summary_xlsx.index.name = \"Metric\"\n",
    "    summary_xlsx.columns = [f\"{m}_{stat}\" for (m, stat) in summary_xlsx.columns]\n",
    "\n",
    "    xlsx_path = f\"{outdir}/per_method_summary.xlsx\"\n",
    "    with pd.ExcelWriter(xlsx_path, engine=\"xlsxwriter\") as writer:\n",
    "        summary_xlsx.reset_index().to_excel(writer, index=False, sheet_name=\"summary\")\n",
    "        ws = writer.sheets[\"summary\"]\n",
    "\n",
    "        # kosmetyka: szerokości kolumn, zamrożenie nagłówka, pogrubione headery\n",
    "        ws.set_column(0, 0, 14)  # Metric\n",
    "        ws.set_column(1, len(summary_xlsx.columns), 12)\n",
    "        ws.freeze_panes(1, 1)\n",
    "\n",
    "        header_fmt = writer.book.add_format({'bold': True, 'text_wrap': True, 'align': 'center'})\n",
    "        for col_num, value in enumerate([\"Metric\"] + list(summary_xlsx.columns)):\n",
    "            ws.write(0, col_num, value, header_fmt)\n",
    "\n",
    "\n",
    "    # ==== Wykres: średnie + SD (kolory i krótszy tytuł) ====\n",
    "    means = summary.xs(\"Mean\", axis=1, level=1).loc[metrics_short]\n",
    "    stds  = summary.xs(\"Std\",  axis=1, level=1).loc[metrics_short]\n",
    "\n",
    "    # Paleta (stonowana, kontrastowa)\n",
    "    method_colors = {\n",
    "        \"LightRAG\": \"#4575b4\",  # niebieski\n",
    "        \"GraphRAG\": \"#91bfdb\",  # jasnoniebieski\n",
    "        \"NaiveRAG\": \"#fdae61\",  # pomarańcz\n",
    "    }\n",
    "    ax = means.plot(kind=\"bar\", yerr=stds, capsize=3, color=[method_colors[c] for c in means.columns])\n",
    "    ax.set_ylabel(\"Wartość metryki\")\n",
    "    ax.set_xlabel(\"\")\n",
    "    ax.set_title(\"Metody RAG — średnie ± SD\")\n",
    "    ax.legend(\n",
    "        title=\"Metoda\",\n",
    "        ncols=3,\n",
    "        frameon=False,\n",
    "        loc=\"upper center\",\n",
    "        bbox_to_anchor=(0.5, 1.20)  # było 1.12 → daj np. 1.20 lub więcej\n",
    "    )\n",
    "\n",
    "    # Adnotacje nad słupkami\n",
    "    for p in ax.patches:\n",
    "        h = p.get_height()\n",
    "        if not np.isnan(h):\n",
    "            ax.annotate(f\"{h:.3f}\", (p.get_x() + p.get_width()/2, h),\n",
    "                        xytext=(0, 3), textcoords=\"offset points\", ha=\"center\", va=\"bottom\", fontsize=9)\n",
    "\n",
    "    plt.tight_layout()\n",
    "    plt.savefig(f\"./results/{base}/analyze/per_method_means_with_std.png\", dpi=300, bbox_inches=\"tight\")\n",
    "    plt.savefig(f\"./results/{base}/analyze/per_method_means_with_std.svg\", bbox_inches=\"tight\")\n",
    "    plt.show()\n",
    "\n",
    "    # ==== Tabela: każde pytanie × metryki × metoda ====\n",
    "    key = \"user_input\"\n",
    "    def shrink_cols(df, method_name):\n",
    "        out = df[[key] + metrics_full].copy().rename(columns=metric_map)\n",
    "        out = out.set_index(key)\n",
    "        out.columns = pd.MultiIndex.from_product([[method_name], out.columns])\n",
    "        return out\n",
    "\n",
    "    L = shrink_cols(lightrag_result, \"LightRAG\")\n",
    "    G = shrink_cols(graphrag_result, \"GraphRAG\")\n",
    "    N = shrink_cols(naiverag_result, \"NaiveRAG\")\n",
    "\n",
    "    per_q = L.join(G, how=\"inner\").join(N, how=\"inner\").reset_index()\n",
    "    per_q.insert(1, \"question_preview\", per_q[key].str.slice(0, 120).fillna(\"\"))\n",
    "    per_q.rename(columns={key: \"question_full\"}, inplace=True)\n",
    "\n",
    "    # 3 miejsca po przecinku\n",
    "    value_cols = per_q.columns[2:]\n",
    "    per_q[value_cols] = per_q[value_cols].astype(float).round(3)\n",
    "\n",
    "    # Zapis plików do dalszej pracy\n",
    "    per_q.to_csv(f\"./results/{base}/analyze/per_question_metrics.csv\", index=False, encoding=\"utf-8\")\n",
    "\n",
    "    # --- FLATTEN: spłaszczamy nagłówki MultiIndex -> \"Metoda_Metryka\" ---\n",
    "    per_q_xlsx = per_q.copy()\n",
    "    per_q_xlsx.columns = [\n",
    "        c if isinstance(c, str) else f\"{c[0]}_{c[1]}\"   # (\"LightRAG\",\"Rel\") -> \"LightRAG_Rel\"\n",
    "        for c in per_q_xlsx.columns\n",
    "    ]\n",
    "\n",
    "    # --- zapis do Excela bez indeksu, z kosmetyką ---\n",
    "    with pd.ExcelWriter(f\"./results/{base}/analyze/per_question_metrics.xlsx\", engine=\"xlsxwriter\") as writer:\n",
    "        per_q_xlsx.to_excel(writer, index=False, sheet_name=\"metrics\")\n",
    "        ws = writer.sheets[\"metrics\"]\n",
    "\n",
    "        # szerokości kolumn\n",
    "        ws.set_column('A:A', 60)  # question_full\n",
    "        ws.set_column('B:B', 50)  # question_preview\n",
    "        ws.set_column(2, len(per_q_xlsx.columns)-1, 12)\n",
    "\n",
    "        # zamrożenie nagłówka i 2 pierwszych kolumn\n",
    "        ws.freeze_panes(1, 2)\n",
    "\n",
    "        # pogrubione nagłówki + zawijanie\n",
    "        header_fmt = writer.book.add_format({'bold': True, 'text_wrap': True, 'align': 'center'})\n",
    "        for col_num, value in enumerate(per_q_xlsx.columns):\n",
    "            ws.write(0, col_num, value, header_fmt)\n",
    "\n",
    "    print(\"✔ Zapisano: per_method_means_with_std.png, per_method_means_with_std.svg, per_question_metrics.csv, per_question_metrics.xlsx\")\n"
   ]
  },
  {
   "cell_type": "code",
   "execution_count": 33,
   "id": "10a548d1",
   "metadata": {},
   "outputs": [
    {
     "data": {
      "text/html": [
       "<style type=\"text/css\">\n",
       "#T_942f4 caption {\n",
       "  caption-side: top;\n",
       "  font-size: 16px;\n",
       "  font-weight: 700;\n",
       "  text-align: left;\n",
       "  margin-bottom: 8px;\n",
       "}\n",
       "#T_942f4 th.col_heading {\n",
       "  font-weight: 700;\n",
       "  white-space: nowrap;\n",
       "}\n",
       "#T_942f4 th.row_heading {\n",
       "  font-weight: 700;\n",
       "}\n",
       "#T_942f4 table {\n",
       "  border-collapse: collapse;\n",
       "}\n",
       "#T_942f4 td {\n",
       "  padding: 6px 10px;\n",
       "  border-bottom: 1px solid #ddd;\n",
       "}\n",
       "#T_942f4  th {\n",
       "  padding: 6px 10px;\n",
       "  border-bottom: 1px solid #ddd;\n",
       "}\n",
       "#T_942f4_row0_col3, #T_942f4_row1_col6, #T_942f4_row2_col6, #T_942f4_row3_col6 {\n",
       "  font-weight: 700;\n",
       "  background-color: #808080;\n",
       "}\n",
       "</style>\n",
       "<table id=\"T_942f4\">\n",
       "  <caption>Per-method summary (mean / std / count)</caption>\n",
       "  <thead>\n",
       "    <tr>\n",
       "      <th class=\"blank level0\" >&nbsp;</th>\n",
       "      <th id=\"T_942f4_level0_col0\" class=\"col_heading level0 col0\" colspan=\"3\">LightRAG</th>\n",
       "      <th id=\"T_942f4_level0_col3\" class=\"col_heading level0 col3\" colspan=\"3\">GraphRAG</th>\n",
       "      <th id=\"T_942f4_level0_col6\" class=\"col_heading level0 col6\" colspan=\"3\">NaiveRAG</th>\n",
       "    </tr>\n",
       "    <tr>\n",
       "      <th class=\"blank level1\" >&nbsp;</th>\n",
       "      <th id=\"T_942f4_level1_col0\" class=\"col_heading level1 col0\" >Mean</th>\n",
       "      <th id=\"T_942f4_level1_col1\" class=\"col_heading level1 col1\" >Std</th>\n",
       "      <th id=\"T_942f4_level1_col2\" class=\"col_heading level1 col2\" >Count</th>\n",
       "      <th id=\"T_942f4_level1_col3\" class=\"col_heading level1 col3\" >Mean</th>\n",
       "      <th id=\"T_942f4_level1_col4\" class=\"col_heading level1 col4\" >Std</th>\n",
       "      <th id=\"T_942f4_level1_col5\" class=\"col_heading level1 col5\" >Count</th>\n",
       "      <th id=\"T_942f4_level1_col6\" class=\"col_heading level1 col6\" >Mean</th>\n",
       "      <th id=\"T_942f4_level1_col7\" class=\"col_heading level1 col7\" >Std</th>\n",
       "      <th id=\"T_942f4_level1_col8\" class=\"col_heading level1 col8\" >Count</th>\n",
       "    </tr>\n",
       "  </thead>\n",
       "  <tbody>\n",
       "    <tr>\n",
       "      <th id=\"T_942f4_level0_row0\" class=\"row_heading level0 row0\" >Rel</th>\n",
       "      <td id=\"T_942f4_row0_col0\" class=\"data row0 col0\" >0.698248</td>\n",
       "      <td id=\"T_942f4_row0_col1\" class=\"data row0 col1\" >0.368263</td>\n",
       "      <td id=\"T_942f4_row0_col2\" class=\"data row0 col2\" >21</td>\n",
       "      <td id=\"T_942f4_row0_col3\" class=\"data row0 col3\" >0.777482</td>\n",
       "      <td id=\"T_942f4_row0_col4\" class=\"data row0 col4\" >0.292526</td>\n",
       "      <td id=\"T_942f4_row0_col5\" class=\"data row0 col5\" >20</td>\n",
       "      <td id=\"T_942f4_row0_col6\" class=\"data row0 col6\" >0.661738</td>\n",
       "      <td id=\"T_942f4_row0_col7\" class=\"data row0 col7\" >0.396180</td>\n",
       "      <td id=\"T_942f4_row0_col8\" class=\"data row0 col8\" >21</td>\n",
       "    </tr>\n",
       "    <tr>\n",
       "      <th id=\"T_942f4_level0_row1\" class=\"row_heading level0 row1\" >Fact-F1</th>\n",
       "      <td id=\"T_942f4_row1_col0\" class=\"data row1 col0\" >0.367143</td>\n",
       "      <td id=\"T_942f4_row1_col1\" class=\"data row1 col1\" >0.286114</td>\n",
       "      <td id=\"T_942f4_row1_col2\" class=\"data row1 col2\" >21</td>\n",
       "      <td id=\"T_942f4_row1_col3\" class=\"data row1 col3\" >0.293500</td>\n",
       "      <td id=\"T_942f4_row1_col4\" class=\"data row1 col4\" >0.154009</td>\n",
       "      <td id=\"T_942f4_row1_col5\" class=\"data row1 col5\" >20</td>\n",
       "      <td id=\"T_942f4_row1_col6\" class=\"data row1 col6\" >0.450500</td>\n",
       "      <td id=\"T_942f4_row1_col7\" class=\"data row1 col7\" >0.294841</td>\n",
       "      <td id=\"T_942f4_row1_col8\" class=\"data row1 col8\" >20</td>\n",
       "    </tr>\n",
       "    <tr>\n",
       "      <th id=\"T_942f4_level0_row2\" class=\"row_heading level0 row2\" >Fact-Rec</th>\n",
       "      <td id=\"T_942f4_row2_col0\" class=\"data row2 col0\" >0.361429</td>\n",
       "      <td id=\"T_942f4_row2_col1\" class=\"data row2 col1\" >0.295098</td>\n",
       "      <td id=\"T_942f4_row2_col2\" class=\"data row2 col2\" >21</td>\n",
       "      <td id=\"T_942f4_row2_col3\" class=\"data row2 col3\" >0.344000</td>\n",
       "      <td id=\"T_942f4_row2_col4\" class=\"data row2 col4\" >0.192036</td>\n",
       "      <td id=\"T_942f4_row2_col5\" class=\"data row2 col5\" >20</td>\n",
       "      <td id=\"T_942f4_row2_col6\" class=\"data row2 col6\" >0.442500</td>\n",
       "      <td id=\"T_942f4_row2_col7\" class=\"data row2 col7\" >0.312357</td>\n",
       "      <td id=\"T_942f4_row2_col8\" class=\"data row2 col8\" >20</td>\n",
       "    </tr>\n",
       "    <tr>\n",
       "      <th id=\"T_942f4_level0_row3\" class=\"row_heading level0 row3\" >SemSim</th>\n",
       "      <td id=\"T_942f4_row3_col0\" class=\"data row3 col0\" >0.755377</td>\n",
       "      <td id=\"T_942f4_row3_col1\" class=\"data row3 col1\" >0.113360</td>\n",
       "      <td id=\"T_942f4_row3_col2\" class=\"data row3 col2\" >21</td>\n",
       "      <td id=\"T_942f4_row3_col3\" class=\"data row3 col3\" >0.710952</td>\n",
       "      <td id=\"T_942f4_row3_col4\" class=\"data row3 col4\" >0.101560</td>\n",
       "      <td id=\"T_942f4_row3_col5\" class=\"data row3 col5\" >20</td>\n",
       "      <td id=\"T_942f4_row3_col6\" class=\"data row3 col6\" >0.796971</td>\n",
       "      <td id=\"T_942f4_row3_col7\" class=\"data row3 col7\" >0.106420</td>\n",
       "      <td id=\"T_942f4_row3_col8\" class=\"data row3 col8\" >21</td>\n",
       "    </tr>\n",
       "  </tbody>\n",
       "</table>\n"
      ],
      "text/plain": [
       "<pandas.io.formats.style.Styler at 0x2039e45e450>"
      ]
     },
     "metadata": {},
     "output_type": "display_data"
    },
    {
     "data": {
      "image/png": "[encoded data removed]",
      "text/plain": [
       "<Figure size 1000x600 with 1 Axes>"
      ]
     },
     "metadata": {},
     "output_type": "display_data"
    },
    {
     "name": "stdout",
     "output_type": "stream",
     "text": [
      "✔ Zapisano: per_method_means_with_std.png, per_method_means_with_std.svg, per_question_metrics.csv, per_question_metrics.xlsx\n"
     ]
    }
   ],
   "source": [
    "analyze(\"study_rules_2\")"
   ]
  },
  {
   "cell_type": "code",
   "execution_count": 34,
   "id": "15dd5d58",
   "metadata": {},
   "outputs": [
    {
     "data": {
      "text/html": [
       "<style type=\"text/css\">\n",
       "#T_56494 caption {\n",
       "  caption-side: top;\n",
       "  font-size: 16px;\n",
       "  font-weight: 700;\n",
       "  text-align: left;\n",
       "  margin-bottom: 8px;\n",
       "}\n",
       "#T_56494 th.col_heading {\n",
       "  font-weight: 700;\n",
       "  white-space: nowrap;\n",
       "}\n",
       "#T_56494 th.row_heading {\n",
       "  font-weight: 700;\n",
       "}\n",
       "#T_56494 table {\n",
       "  border-collapse: collapse;\n",
       "}\n",
       "#T_56494 td {\n",
       "  padding: 6px 10px;\n",
       "  border-bottom: 1px solid #ddd;\n",
       "}\n",
       "#T_56494  th {\n",
       "  padding: 6px 10px;\n",
       "  border-bottom: 1px solid #ddd;\n",
       "}\n",
       "#T_56494_row0_col0, #T_56494_row1_col6, #T_56494_row2_col6, #T_56494_row3_col6 {\n",
       "  font-weight: 700;\n",
       "  background-color: #808080;\n",
       "}\n",
       "</style>\n",
       "<table id=\"T_56494\">\n",
       "  <caption>Per-method summary (mean / std / count)</caption>\n",
       "  <thead>\n",
       "    <tr>\n",
       "      <th class=\"blank level0\" >&nbsp;</th>\n",
       "      <th id=\"T_56494_level0_col0\" class=\"col_heading level0 col0\" colspan=\"3\">LightRAG</th>\n",
       "      <th id=\"T_56494_level0_col3\" class=\"col_heading level0 col3\" colspan=\"3\">GraphRAG</th>\n",
       "      <th id=\"T_56494_level0_col6\" class=\"col_heading level0 col6\" colspan=\"3\">NaiveRAG</th>\n",
       "    </tr>\n",
       "    <tr>\n",
       "      <th class=\"blank level1\" >&nbsp;</th>\n",
       "      <th id=\"T_56494_level1_col0\" class=\"col_heading level1 col0\" >Mean</th>\n",
       "      <th id=\"T_56494_level1_col1\" class=\"col_heading level1 col1\" >Std</th>\n",
       "      <th id=\"T_56494_level1_col2\" class=\"col_heading level1 col2\" >Count</th>\n",
       "      <th id=\"T_56494_level1_col3\" class=\"col_heading level1 col3\" >Mean</th>\n",
       "      <th id=\"T_56494_level1_col4\" class=\"col_heading level1 col4\" >Std</th>\n",
       "      <th id=\"T_56494_level1_col5\" class=\"col_heading level1 col5\" >Count</th>\n",
       "      <th id=\"T_56494_level1_col6\" class=\"col_heading level1 col6\" >Mean</th>\n",
       "      <th id=\"T_56494_level1_col7\" class=\"col_heading level1 col7\" >Std</th>\n",
       "      <th id=\"T_56494_level1_col8\" class=\"col_heading level1 col8\" >Count</th>\n",
       "    </tr>\n",
       "  </thead>\n",
       "  <tbody>\n",
       "    <tr>\n",
       "      <th id=\"T_56494_level0_row0\" class=\"row_heading level0 row0\" >Rel</th>\n",
       "      <td id=\"T_56494_row0_col0\" class=\"data row0 col0\" >0.840568</td>\n",
       "      <td id=\"T_56494_row0_col1\" class=\"data row0 col1\" >0.108324</td>\n",
       "      <td id=\"T_56494_row0_col2\" class=\"data row0 col2\" >40</td>\n",
       "      <td id=\"T_56494_row0_col3\" class=\"data row0 col3\" >0.835032</td>\n",
       "      <td id=\"T_56494_row0_col4\" class=\"data row0 col4\" >0.109809</td>\n",
       "      <td id=\"T_56494_row0_col5\" class=\"data row0 col5\" >40</td>\n",
       "      <td id=\"T_56494_row0_col6\" class=\"data row0 col6\" >0.811711</td>\n",
       "      <td id=\"T_56494_row0_col7\" class=\"data row0 col7\" >0.172961</td>\n",
       "      <td id=\"T_56494_row0_col8\" class=\"data row0 col8\" >40</td>\n",
       "    </tr>\n",
       "    <tr>\n",
       "      <th id=\"T_56494_level0_row1\" class=\"row_heading level0 row1\" >Fact-F1</th>\n",
       "      <td id=\"T_56494_row1_col0\" class=\"data row1 col0\" >0.456750</td>\n",
       "      <td id=\"T_56494_row1_col1\" class=\"data row1 col1\" >0.241633</td>\n",
       "      <td id=\"T_56494_row1_col2\" class=\"data row1 col2\" >40</td>\n",
       "      <td id=\"T_56494_row1_col3\" class=\"data row1 col3\" >0.386000</td>\n",
       "      <td id=\"T_56494_row1_col4\" class=\"data row1 col4\" >0.211379</td>\n",
       "      <td id=\"T_56494_row1_col5\" class=\"data row1 col5\" >40</td>\n",
       "      <td id=\"T_56494_row1_col6\" class=\"data row1 col6\" >0.458000</td>\n",
       "      <td id=\"T_56494_row1_col7\" class=\"data row1 col7\" >0.231596</td>\n",
       "      <td id=\"T_56494_row1_col8\" class=\"data row1 col8\" >40</td>\n",
       "    </tr>\n",
       "    <tr>\n",
       "      <th id=\"T_56494_level0_row2\" class=\"row_heading level0 row2\" >Fact-Rec</th>\n",
       "      <td id=\"T_56494_row2_col0\" class=\"data row2 col0\" >0.725000</td>\n",
       "      <td id=\"T_56494_row2_col1\" class=\"data row2 col1\" >0.282380</td>\n",
       "      <td id=\"T_56494_row2_col2\" class=\"data row2 col2\" >40</td>\n",
       "      <td id=\"T_56494_row2_col3\" class=\"data row2 col3\" >0.634000</td>\n",
       "      <td id=\"T_56494_row2_col4\" class=\"data row2 col4\" >0.317957</td>\n",
       "      <td id=\"T_56494_row2_col5\" class=\"data row2 col5\" >40</td>\n",
       "      <td id=\"T_56494_row2_col6\" class=\"data row2 col6\" >0.736000</td>\n",
       "      <td id=\"T_56494_row2_col7\" class=\"data row2 col7\" >0.272018</td>\n",
       "      <td id=\"T_56494_row2_col8\" class=\"data row2 col8\" >40</td>\n",
       "    </tr>\n",
       "    <tr>\n",
       "      <th id=\"T_56494_level0_row3\" class=\"row_heading level0 row3\" >SemSim</th>\n",
       "      <td id=\"T_56494_row3_col0\" class=\"data row3 col0\" >0.685031</td>\n",
       "      <td id=\"T_56494_row3_col1\" class=\"data row3 col1\" >0.111487</td>\n",
       "      <td id=\"T_56494_row3_col2\" class=\"data row3 col2\" >40</td>\n",
       "      <td id=\"T_56494_row3_col3\" class=\"data row3 col3\" >0.669859</td>\n",
       "      <td id=\"T_56494_row3_col4\" class=\"data row3 col4\" >0.111742</td>\n",
       "      <td id=\"T_56494_row3_col5\" class=\"data row3 col5\" >40</td>\n",
       "      <td id=\"T_56494_row3_col6\" class=\"data row3 col6\" >0.689537</td>\n",
       "      <td id=\"T_56494_row3_col7\" class=\"data row3 col7\" >0.123825</td>\n",
       "      <td id=\"T_56494_row3_col8\" class=\"data row3 col8\" >40</td>\n",
       "    </tr>\n",
       "  </tbody>\n",
       "</table>\n"
      ],
      "text/plain": [
       "<pandas.io.formats.style.Styler at 0x203a2da8110>"
      ]
     },
     "metadata": {},
     "output_type": "display_data"
    },
    {
     "data": {
      "image/png": "[encoded data removed]",
      "text/plain": [
       "<Figure size 1000x600 with 1 Axes>"
      ]
     },
     "metadata": {},
     "output_type": "display_data"
    },
    {
     "name": "stdout",
     "output_type": "stream",
     "text": [
      "✔ Zapisano: per_method_means_with_std.png, per_method_means_with_std.svg, per_question_metrics.csv, per_question_metrics.xlsx\n"
     ]
    }
   ],
   "source": [
    "analyze(\"genetics\")"
   ]
  }
 ],
 "metadata": {
  "kernelspec": {
   "display_name": ".venv",
   "language": "python",
   "name": "python3"
  },
  "language_info": {
   "codemirror_mode": {
    "name": "ipython",
    "version": 3
   },
   "file_extension": ".py",
   "mimetype": "text/x-python",
   "name": "python",
   "nbconvert_exporter": "python",
   "pygments_lexer": "ipython3",
   "version": "3.11.0"
  }
 },
 "nbformat": 4,
 "nbformat_minor": 5
}
