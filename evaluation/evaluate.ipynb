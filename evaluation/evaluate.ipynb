{
 "cells": [
  {
   "cell_type": "code",
   "execution_count": 1,
   "id": "d84673aa",
   "metadata": {},
   "outputs": [
    {
     "name": "stderr",
     "output_type": "stream",
     "text": [
      "/home/macierz/s184306/.venv/lib/python3.10/site-packages/tqdm/auto.py:21: TqdmWarning: IProgress not found. Please update jupyter and ipywidgets. See https://ipywidgets.readthedocs.io/en/stable/user_install.html\n",
      "  from .autonotebook import tqdm as notebook_tqdm\n"
     ]
    }
   ],
   "source": [
    "import os\n",
    "import pandas as pd\n",
    "from ragas.metrics import answer_relevancy, answer_correctness\n",
    "from ragas import evaluate\n",
    "from ragas.llms import LangchainLLMWrapper\n",
    "from ragas.embeddings import LangchainEmbeddingsWrapper\n",
    "from langchain.chat_models import ChatOpenAI\n",
    "from langchain_localai import LocalAIEmbeddings\n",
    "from datasets import Dataset\n",
    "from dotenv import load_dotenv\n",
    "import json"
   ]
  },
  {
   "cell_type": "code",
   "execution_count": 2,
   "id": "7b837a72",
   "metadata": {},
   "outputs": [
    {
     "data": {
      "text/plain": [
       "True"
      ]
     },
     "execution_count": 2,
     "metadata": {},
     "output_type": "execute_result"
    }
   ],
   "source": [
    "load_dotenv()"
   ]
  },
  {
   "cell_type": "code",
   "execution_count": 3,
   "id": "8ea8cdd9",
   "metadata": {},
   "outputs": [
    {
     "name": "stderr",
     "output_type": "stream",
     "text": [
      "/tmp/ipykernel_1652017/3293813554.py:1: LangChainDeprecationWarning: The class `ChatOpenAI` was deprecated in LangChain 0.0.10 and will be removed in 1.0. An updated version of the class exists in the :class:`~langchain-openai package and should be used instead. To use it run `pip install -U :class:`~langchain-openai` and import as `from :class:`~langchain_openai import ChatOpenAI``.\n",
      "  llm = ChatOpenAI(\n"
     ]
    }
   ],
   "source": [
    "llm = ChatOpenAI(\n",
    "    openai_api_base=os.getenv(\"OPENAI_API_BASE\"), \n",
    "    openai_api_key=os.getenv(\"OPENAI_API_KEY\"),              \n",
    "    model_name=os.getenv(\"LLM_MODEL_NAME\")          \n",
    ")\n",
    "llm = LangchainLLMWrapper(llm)\n",
    "\n",
    "embedding = LocalAIEmbeddings(\n",
    "    openai_api_base=os.getenv(\"EMBED_URL\"), \n",
    "    openai_api_key=os.getenv(\"EMBED_TOKEN\"), \n",
    "    model=os.getenv(\"EMBED_MODEL\")\n",
    ")\n",
    "embedding = LangchainEmbeddingsWrapper(embedding)"
   ]
  },
  {
   "cell_type": "code",
   "execution_count": 4,
   "id": "537bcfbf",
   "metadata": {},
   "outputs": [],
   "source": [
    "def start_evaluate(test_set_file, output_file):\n",
    "    with open(test_set_file, 'r', encoding='utf-8') as file:\n",
    "        data = json.load(file)\n",
    "        dataset = Dataset.from_dict(data)\n",
    "    \n",
    "    results = evaluate(\n",
    "        dataset=dataset,\n",
    "        metrics=[answer_correctness, answer_relevancy],\n",
    "        llm=llm,\n",
    "        embeddings=embedding\n",
    "    )\n",
    "    df = results.to_pandas()\n",
    "    df.to_csv(output_file,index=False)\n",
    "    print(f\"Done - saved in: {output_file}\")\n",
    "    return results\n"
   ]
  },
  {
   "cell_type": "code",
   "execution_count": 5,
   "id": "4df1a4cb",
   "metadata": {},
   "outputs": [
    {
     "name": "stderr",
     "output_type": "stream",
     "text": [
      "Evaluating:  60%|█████▉    | 25/42 [02:24<01:53,  6.66s/it]Exception raised in Job[36]: OutputParserException(Invalid json output: {\"TP\": [\n",
      "    {\n",
      "      \"statement\": \"Students must have obtained a weighted average grade not lower than4.5 through the entire period of studies.\",\n",
      "      \"reason\": \"This is directly supported by the ground truth which states that one criterion is achieving a weighted average grade of at least4.5 throughout the entire study period.\"\n",
      "    },\n",
      "    {\n",
      "      \"statement\": \"Students must have demonstrated outstanding scientific achievements related to the field of study.\",\n",
      "      \"reason\": \"The ground truth mentions demonstrating outstanding scientific achievements as one of the criteria.\"\n",
      "    },\n",
      "    {\n",
      "      \"statement\": \"Students must have obtained a \\\"very good\\\" (5.0) grade for the diploma thesis.\",\n",
      "      \"reason\": \"Earning a \\\"very good\\\" (5.0) grade for the diploma thesis is mentioned in the ground truth as one of the criteria.\"\n",
      "    },\n",
      "    {\n",
      "      \"statement\": \"Students must have obtained a \\\"very good\\\" (5.0) grade for the diploma examination.\",\n",
      "      \"reason\": \"Receiving a \\\"very good\\\" (5.0) grade in the diploma examination is listed as one of the criteria in the ground truth.\"\n",
      "    },\n",
      "    {\n",
      "      \"statement\": \"Students must not have been penalized by a disciplinary committee or a student disciplinary panel.\",\n",
      "      \"reason\": \"The ground truth includes not having been penalized by any disciplinary committee or student disciplinary panel as a criterion.\"\n",
      "    },\n",
      "    {\n",
      "      \"statement\": \"Students must have submitted their diploma thesis within the time specified in \\u00a721(11).\",\"\n",
      "      \"reason\": \"Submitting the diploma thesis within the specified deadline is mentioned as one of the criteria in the ground truth.\"\n",
      "    },\n",
      "    {\n",
      "      \"statement\": \"The eligibility criteria for a student to receive a diploma with distinction at Gda\\u0144sk University of Technology include a high weighted average grade.\",\n",
      "      \"reason\": \"This is supported by the ground truth mentioning a weighted average grade of at least4.5.\"\n",
      "    },\n",
      "    {\n",
      "      \"statement\": \"The eligibility criteria for a student to receive a diploma with distinction at Gda\\u0144sk University of Technology include outstanding scientific achievements.\",\n",
      "      \"reason\": \"The ground truth lists demonstrating outstanding scientific achievements as a criterion.\"\n",
      "    },\n",
      "    {\n",
      "      \"statement\": \"The eligibility criteria for a student to receive a diploma with distinction at Gda\\u0144sk University of Technology include good grades for diploma thesis and examination.\",\n",
      "      \"reason\": \"This is supported by the ground truth which mentions \\\"very good\\\" (5.0) grades for both the diploma thesis and examination.\"\n",
      "    },\n",
      "    {\n",
      "      \"statement\": \"The eligibility criteria for a student to receive a diploma with distinction at Gda\\u0144sk University of Technology include no disciplinary penalties.\",\n",
      "      \"reason\": \"The ground truth includes not being penalized by a disciplinary committee or student disciplinary panel.\"\n",
      "    },\n",
      "    {\n",
      "      \"statement\": \"The eligibility criteria for a student to receive a diploma with distinction at Gda\\u0144sk University of Technology include timely submission of diploma thesis.\",\n",
      "      \"reason\": \"This aligns with the ground truth about submitting the diploma thesis within the specified deadline.\"\n",
      "    }\n",
      "  ], \"FP\": [\n",
      "    {\n",
      "      \"statement\": \"Gda\\u0144sk University of Technology awards diplomas with distinction to outstanding students.\",\n",
      "      \"reason\": \"While it implies the existence of such awards, it does not directly support the specific criteria listed.\"\n",
      "    },\n",
      "    {\n",
      "      \"statement\": \"The dean may apply to the rector to issue a diploma with distinction to students who meet certain criteria.\",\n",
      "      \"reason\": \"This statement introduces a procedural aspect not directly covered by the ground truth's focus on eligibility criteria.\"\n",
      "    },\n",
      "    {\n",
      "      \"statement\": \"Students must have documented their scientific achievements no later than the date of the diploma examination.\",\n",
      "      \"reason\": \"The ground truth mentions documenting scientific achievements by the diploma examination date, but it is not explicitly listed as a separate criterion in the same way.\"\n",
      "    }\n",
      "  ], \"FN\": [\n",
      "    {\n",
      "      \"statement\": \"A student must meet all five specific criteria to be eligible for a diploma with distinction at Gda\\u0144sk University of Technology.\",\n",
      "      \"reason\": \"The answer does not explicitly state that all criteria must be met, though it lists them.\"\n",
      "    }\n",
      "  ]}\n",
      "For troubleshooting, visit: https://python.langchain.com/docs/troubleshooting/errors/OUTPUT_PARSING_FAILURE )\n",
      "Evaluating:  64%|██████▍   | 27/42 [02:45<02:01,  8.10s/it]Exception raised in Job[19]: RateLimitError(Error code: 429 - {'error': {'message': 'Rate limit reached for model `meta-llama/llama-4-scout-17b-16e-instruct` in organization `org_01jss0mqvces98cxfmen4f1jpd` service tier `on_demand` on requests per minute (RPM): Limit 30, Used 30, Requested 1. Please try again in 1.262s. Need more tokens? Upgrade to Dev Tier today at https://console.groq.com/settings/billing', 'type': 'requests', 'code': 'rate_limit_exceeded'}})\n",
      "Evaluating:  69%|██████▉   | 29/42 [02:48<01:02,  4.84s/it]Exception raised in Job[2]: TimeoutError()\n",
      "Evaluating:  71%|███████▏  | 30/42 [03:00<01:22,  6.87s/it]Exception raised in Job[6]: TimeoutError()\n",
      "Evaluating:  79%|███████▊  | 33/42 [03:06<00:39,  4.41s/it]Exception raised in Job[16]: TimeoutError()\n",
      "Evaluating: 100%|██████████| 42/42 [03:47<00:00,  5.42s/it]\n"
     ]
    },
    {
     "name": "stdout",
     "output_type": "stream",
     "text": [
      "Done - saved in: ./results/study_rules/method1_lightrag_hybrid.csv\n",
      "FILE: ./results/study_rules/method1_lightrag_hybrid.csv\n",
      "Average answer correctness: 0.5076676342165034\n",
      "Average answer relevancy: 0.69348517896976\n"
     ]
    }
   ],
   "source": [
    "test_set_file = './test_data/study_rules/test_set_method1_lightrag_hybrid.json'\n",
    "output_file = './results/study_rules/method1_lightrag_hybrid.csv'\n",
    "\n",
    "results = start_evaluate(test_set_file, output_file)\n",
    "\n",
    "df = pd.read_csv(output_file)\n",
    "print(f\"FILE: {output_file}\")\n",
    "print(\"Average answer correctness:\", df['answer_correctness'].mean())\n",
    "print(\"Average answer relevancy:\", df['answer_relevancy'].mean())"
   ]
  },
  {
   "cell_type": "code",
   "execution_count": 7,
   "id": "b3ef078b",
   "metadata": {},
   "outputs": [
    {
     "name": "stderr",
     "output_type": "stream",
     "text": [
      "Evaluating:  67%|██████▋   | 28/42 [02:32<01:19,  5.67s/it]Exception raised in Job[2]: RateLimitError(Error code: 429 - {'error': {'message': 'Rate limit reached for model `meta-llama/llama-4-scout-17b-16e-instruct` in organization `org_01jss0mqvces98cxfmen4f1jpd` service tier `on_demand` on requests per minute (RPM): Limit 30, Used 30, Requested 1. Please try again in 1.939s. Need more tokens? Upgrade to Dev Tier today at https://console.groq.com/settings/billing', 'type': 'requests', 'code': 'rate_limit_exceeded'}})\n",
      "Evaluating:  90%|█████████ | 38/42 [03:20<00:21,  5.27s/it]Exception raised in Job[22]: TimeoutError()\n",
      "Evaluating:  93%|█████████▎| 39/42 [03:32<00:21,  7.08s/it]Exception raised in Job[25]: TimeoutError()\n",
      "Evaluating:  98%|█████████▊| 41/42 [03:42<00:05,  5.71s/it]Exception raised in Job[38]: OutputParserException(Failed to parse StringIO from completion {\"TP\": [{\"statement\": \"Exceptionally gifted secondary school students who attend university classes at Gda\\u0144sk University of Technology have access to rights and opportunities.\", \"reason\": \"The ground truth implies various rights and opportunities through mentions of using university teaching facilities, assistance from teaching staff, and more, which can be considered as rights and opportunities.\"}, {\"statement\": \"Exceptionally gifted secondary school students who attend university classes at Gda\\u0144sk University of Technology can participate in university classes.\", \"reason\": \"This is directly implied by the context, though not explicitly stated in ground truth, it's a basic assumption of attending classes.\"}, {\"statement\": \"Exceptionally gifted secondary school students who attend university classes at Gda\\u0144sk University of Technology may work with experienced professors and researchers.\", \"reason\": \"This can be inferred from 'receive assistance from teaching staff' in the ground truth.\"}, {\"statement\": \"Exceptionally gifted secondary school students who attend university classes at Gda\\u0144sk University of Technology may have access to specialized equipment or resources.\", \"reason\": \"This is supported by 'use university teaching facilities' and the general supportive provisions in the ground truth.\"}, {\"statement\": \"The specific rights and opportunities available to exceptionally gifted secondary school students who attend university classes at Gda\\u0144sk University of Technology vary depending on the university's policies and procedures.\", \"reason\": \"This is somewhat supported by 'Provisions ensure that secondary school students are integrated into the academic environment' and 'Provisions support secondary school students in their educational pursuits', implying variability based on university policies.\"}], \"FP\": [{\"statement\": \"Participating in university classes provides exceptionally gifted secondary school students with advanced knowledge and skills.\", \"reason\": \"While likely true, this specific benefit is not directly mentioned in the ground truth.\"}, {\"statement\": \"Exceptionally gifted secondary school students who attend university classes at Gda\\u0144sk University of Technology may participate in research projects or internships.\", \"reason\": \"This is not directly supported by the ground truth.\"}, {\"statement\": \"Research projects or internships give exceptionally gifted secondary school students hands-on experience.\", \"reason\": \"The ground truth does not specifically mention research projects or internships.\"}, {\"statement\": \"Research projects or internships help exceptionally gifted secondary school students develop their skills.\", \"reason\": \"Similar to the previous point, research projects or internships are not mentioned.\"}, {\"statement\": \"Exceptionally gifted secondary school students who attend university classes at Gda\\u0144sk University of Technology may be eligible for scholarships or other forms of financial assistance.\", \"reason\": \"There is no mention of scholarships or financial assistance in the ground truth.\"}, {\"statement\": \"Scholarships or other forms of financial assistance help exceptionally gifted secondary school students cover the costs of their education.\", \"reason\": \"This is related to the previous point about financial assistance not being mentioned.\"}], \"FN\": [{\"statement\": \"Exceptionally gifted secondary school students who attend university classes at Gda\\u0144sk University of Technology are granted the right to use university teaching facilities.\", \"reason\": \"This specific right is directly mentioned in the ground truth but not explicitly covered in the answer.\"}, {\"statement\": \"Exceptionally gifted secondary school students who attend university classes at Gda\\u0144sk University of Technology receive assistance from teaching staff.\", \"reason\": \"This is directly mentioned in the ground truth but not explicitly listed in the answer.\"}, {\"statement\": \"Exceptionally gifted secondary school students who attend university classes at Gda\\u0144sk University of Technology participate in student team projects.\", \"reason\": \"The ground truth mentions this, but the answer does not directly address team projects.\"}, {\"statement\": \"Exceptionally gifted secondary school students who attend university classes at Gda\\u0144sk University of Technology engage in scientific activities.\", \"reason\": \"This is mentioned in the ground truth but not directly covered in the answer.\"}, {\"statement\": \"The dean may assign personal tutors to exceptionally gifted secondary school students who attend university classes at Gda\\u0144sk University of Technology.\", \"reason\": \"This specific provision is not mentioned in the answer.\"}, {\"statement\": \"The dean may assign mentors to exceptionally gifted secondary school students who attend university classes at Gda\\u0144sk University of Technology.\", \"reason\": \"Similar to personal tutors, this is not mentioned in the answer.\"}, {\"statement\": \"Provisions ensure that secondary school students are integrated into the academic environment.\", \"reason\": \"This is mentioned in the ground truth but not directly addressed in the answer.\"}, {\"statement\": \"Provisions support secondary school students in their educational pursuits.\", \"reason\": \"This supportive provision is not directly mentioned in the answer.\"}]}. Got: 1 validation error for StringIO\n",
      "text\n",
      "  Field required [type=missing, input_value={'TP': [{'statement': 'Ex...ioned in the answer.'}]}, input_type=dict]\n",
      "    For further information visit https://errors.pydantic.dev/2.11/v/missing\n",
      "For troubleshooting, visit: https://python.langchain.com/docs/troubleshooting/errors/OUTPUT_PARSING_FAILURE )\n",
      "Evaluating: 100%|██████████| 42/42 [03:48<00:00,  5.44s/it]\n"
     ]
    },
    {
     "name": "stdout",
     "output_type": "stream",
     "text": [
      "Done - saved in: ./results/study_rules/method1_lightrag_local.csv\n",
      "FILE: ./results/study_rules/method1_lightrag_local.csv\n",
      "Average answer correctness: 0.4070000947440743\n",
      "Average answer relevancy: 0.6542954736798687\n"
     ]
    }
   ],
   "source": [
    "test_set_file = './test_data/study_rules/test_set_method1_lightrag_local.json'\n",
    "output_file = './results/study_rules/method1_lightrag_local.csv'\n",
    "\n",
    "results = start_evaluate(test_set_file, output_file)\n",
    "\n",
    "df = pd.read_csv(output_file)\n",
    "print(f\"FILE: {output_file}\")\n",
    "print(\"Average answer correctness:\", df['answer_correctness'].mean())\n",
    "print(\"Average answer relevancy:\", df['answer_relevancy'].mean())"
   ]
  },
  {
   "cell_type": "code",
   "execution_count": 7,
   "id": "8d991fdf",
   "metadata": {},
   "outputs": [
    {
     "name": "stderr",
     "output_type": "stream",
     "text": [
      "Evaluating: 100%|██████████| 18/18 [01:26<00:00,  4.82s/it]\n"
     ]
    },
    {
     "name": "stdout",
     "output_type": "stream",
     "text": [
      "Done - saved in: ./results/study_rules/method2_graphrag.csv\n",
      "Average answer correctness: 0.43315654246325025\n",
      "Average answer relevancy: 0.8603584098661652\n"
     ]
    },
    {
     "data": {
      "text/html": [
       "<div>\n",
       "<style scoped>\n",
       "    .dataframe tbody tr th:only-of-type {\n",
       "        vertical-align: middle;\n",
       "    }\n",
       "\n",
       "    .dataframe tbody tr th {\n",
       "        vertical-align: top;\n",
       "    }\n",
       "\n",
       "    .dataframe thead th {\n",
       "        text-align: right;\n",
       "    }\n",
       "</style>\n",
       "<table border=\"1\" class=\"dataframe\">\n",
       "  <thead>\n",
       "    <tr style=\"text-align: right;\">\n",
       "      <th></th>\n",
       "      <th>user_input</th>\n",
       "      <th>response</th>\n",
       "      <th>reference</th>\n",
       "      <th>answer_correctness</th>\n",
       "      <th>answer_relevancy</th>\n",
       "    </tr>\n",
       "  </thead>\n",
       "  <tbody>\n",
       "    <tr>\n",
       "      <th>0</th>\n",
       "      <td>What is the procedure and timeline for a stude...</td>\n",
       "      <td># Procedure and Timeline for Student Transfer ...</td>\n",
       "      <td>A student may transfer from another university...</td>\n",
       "      <td>0.312727</td>\n",
       "      <td>0.957143</td>\n",
       "    </tr>\n",
       "    <tr>\n",
       "      <th>1</th>\n",
       "      <td>What types of training are students required t...</td>\n",
       "      <td># Types of Training Required for Students at G...</td>\n",
       "      <td>Students are required to complete training in ...</td>\n",
       "      <td>0.558481</td>\n",
       "      <td>0.990234</td>\n",
       "    </tr>\n",
       "    <tr>\n",
       "      <th>2</th>\n",
       "      <td>How does Gdańsk University of Technology defin...</td>\n",
       "      <td>**Confirming Learning Outcomes for Admission a...</td>\n",
       "      <td>Confirmation of learning outcomes is conducted...</td>\n",
       "      <td>0.429553</td>\n",
       "      <td>0.934198</td>\n",
       "    </tr>\n",
       "    <tr>\n",
       "      <th>3</th>\n",
       "      <td>What are the responsibilities of the Faculty S...</td>\n",
       "      <td>The Faculty Student Council (FSC) has several ...</td>\n",
       "      <td>The Faculty Student Council is responsible for...</td>\n",
       "      <td>0.342331</td>\n",
       "      <td>0.880838</td>\n",
       "    </tr>\n",
       "    <tr>\n",
       "      <th>4</th>\n",
       "      <td>Under what circumstances can classes from the ...</td>\n",
       "      <td>According to the provided data, classes from t...</td>\n",
       "      <td>Such classes may be conducted in a foreign lan...</td>\n",
       "      <td>0.542870</td>\n",
       "      <td>0.937306</td>\n",
       "    </tr>\n",
       "    <tr>\n",
       "      <th>5</th>\n",
       "      <td>What procedures must academic teachers follow ...</td>\n",
       "      <td>Publishing and updating subject cards in the ‘...</td>\n",
       "      <td>Academic teachers complete subject cards in th...</td>\n",
       "      <td>0.415907</td>\n",
       "      <td>0.843631</td>\n",
       "    </tr>\n",
       "    <tr>\n",
       "      <th>6</th>\n",
       "      <td>What are the responsibilities of academic teac...</td>\n",
       "      <td>**Responsibilities of Academic Teachers in Rel...</td>\n",
       "      <td>Academic teachers must register student attend...</td>\n",
       "      <td>0.467968</td>\n",
       "      <td>0.683712</td>\n",
       "    </tr>\n",
       "    <tr>\n",
       "      <th>7</th>\n",
       "      <td>Under what circumstances can a student be remo...</td>\n",
       "      <td>**Student Removal and Absence Classification**...</td>\n",
       "      <td>A student can be removed from classes if their...</td>\n",
       "      <td>0.175586</td>\n",
       "      <td>0.725469</td>\n",
       "    </tr>\n",
       "    <tr>\n",
       "      <th>8</th>\n",
       "      <td>How is the weighted average grade calculated, ...</td>\n",
       "      <td>### Weighted Average Grade Calculation\\n\\nThe ...</td>\n",
       "      <td>The weighted average grade is calculated by di...</td>\n",
       "      <td>0.652985</td>\n",
       "      <td>0.790695</td>\n",
       "    </tr>\n",
       "  </tbody>\n",
       "</table>\n",
       "</div>"
      ],
      "text/plain": [
       "                                          user_input  \\\n",
       "0  What is the procedure and timeline for a stude...   \n",
       "1  What types of training are students required t...   \n",
       "2  How does Gdańsk University of Technology defin...   \n",
       "3  What are the responsibilities of the Faculty S...   \n",
       "4  Under what circumstances can classes from the ...   \n",
       "5  What procedures must academic teachers follow ...   \n",
       "6  What are the responsibilities of academic teac...   \n",
       "7  Under what circumstances can a student be remo...   \n",
       "8  How is the weighted average grade calculated, ...   \n",
       "\n",
       "                                            response  \\\n",
       "0  # Procedure and Timeline for Student Transfer ...   \n",
       "1  # Types of Training Required for Students at G...   \n",
       "2  **Confirming Learning Outcomes for Admission a...   \n",
       "3  The Faculty Student Council (FSC) has several ...   \n",
       "4  According to the provided data, classes from t...   \n",
       "5  Publishing and updating subject cards in the ‘...   \n",
       "6  **Responsibilities of Academic Teachers in Rel...   \n",
       "7  **Student Removal and Absence Classification**...   \n",
       "8  ### Weighted Average Grade Calculation\\n\\nThe ...   \n",
       "\n",
       "                                           reference  answer_correctness  \\\n",
       "0  A student may transfer from another university...            0.312727   \n",
       "1  Students are required to complete training in ...            0.558481   \n",
       "2  Confirmation of learning outcomes is conducted...            0.429553   \n",
       "3  The Faculty Student Council is responsible for...            0.342331   \n",
       "4  Such classes may be conducted in a foreign lan...            0.542870   \n",
       "5  Academic teachers complete subject cards in th...            0.415907   \n",
       "6  Academic teachers must register student attend...            0.467968   \n",
       "7  A student can be removed from classes if their...            0.175586   \n",
       "8  The weighted average grade is calculated by di...            0.652985   \n",
       "\n",
       "   answer_relevancy  \n",
       "0          0.957143  \n",
       "1          0.990234  \n",
       "2          0.934198  \n",
       "3          0.880838  \n",
       "4          0.937306  \n",
       "5          0.843631  \n",
       "6          0.683712  \n",
       "7          0.725469  \n",
       "8          0.790695  "
      ]
     },
     "execution_count": 7,
     "metadata": {},
     "output_type": "execute_result"
    }
   ],
   "source": [
    "test_set_file = './test_data/study_rules/test_set_method2_graphrag.json'\n",
    "output_file = './results/study_rules/method2_graphrag.csv'\n",
    "\n",
    "results = start_evaluate(test_set_file, output_file)\n",
    "\n",
    "df = pd.read_csv(output_file)\n",
    "print(\"Average answer correctness:\", df['answer_correctness'].mean())\n",
    "print(\"Average answer relevancy:\", df['answer_relevancy'].mean())\n",
    "df"
   ]
  }
 ],
 "metadata": {
  "kernelspec": {
   "display_name": ".venv",
   "language": "python",
   "name": "python3"
  },
  "language_info": {
   "codemirror_mode": {
    "name": "ipython",
    "version": 3
   },
   "file_extension": ".py",
   "mimetype": "text/x-python",
   "name": "python",
   "nbconvert_exporter": "python",
   "pygments_lexer": "ipython3",
   "version": "3.10.12"
  }
 },
 "nbformat": 4,
 "nbformat_minor": 5
}
